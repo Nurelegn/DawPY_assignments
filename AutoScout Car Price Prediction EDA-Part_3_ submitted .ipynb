{
 "cells": [
  {
   "cell_type": "markdown",
   "metadata": {
    "id": "Bkw3_pB0s1L-"
   },
   "source": [
    "___\n",
    "\n",
    "<p style=\"text-align: center;\"><img src=\"https://docs.google.com/uc?id=1lY0Uj5R04yMY3-ZppPWxqCr5pvBLYPnV\" class=\"img-fluid\" \n",
    "alt=\"CLRSWY\"></p>\n",
    "\n",
    "## <p style=\"background-color:#FDFEFE; font-family:newtimeroman; color:#9d4f8c; font-size:100%; text-align:center; border-radius:10px 10px;\">WAY TO REINVENT YOURSELF</p>\n",
    "\n",
    "## <p style=\"background-color:#FDFEFE; font-family:newtimeroman; color:#060108; font-size:200%; text-align:center; border-radius:10px 10px;\">DA & DVwPY</p>\n",
    "\n",
    "## <p style=\"background-color:#FDFEFE; font-family:newtimeroman; color:#060108; font-size:200%; text-align:center; border-radius:10px 10px;\">The Exploratory Data Analysis (EDA) Project</p>\n",
    "\n",
    "<img src=https://i.ibb.co/wJW61Y2/Used-cars.jpg width=\"700\" height=\"200\">\n",
    "\n",
    "## <p style=\"background-color:#FDFEFE; font-family:newtimeroman; color:#060108; font-size:200%; text-align:center; border-radius:10px 10px;\">AutoScout Car Price Prediction EDA</p>\n",
    "\n"
   ]
  },
  {
   "cell_type": "markdown",
   "metadata": {},
   "source": [
    "# PART- 3 `( Handling With Outliers )`"
   ]
  },
  {
   "cell_type": "markdown",
   "metadata": {},
   "source": [
    "The third part is related to 'Handling Outliers of Data' via Visualization libraries. So, some insights will be extracted."
   ]
  },
  {
   "cell_type": "markdown",
   "metadata": {},
   "source": [
    "## Content\n"
   ]
  },
  {
   "cell_type": "markdown",
   "metadata": {},
   "source": [
    "***What question are you trying to solve (or prove wrong)?***\n",
    "***What kind of data do you have?***\n",
    "***What’s missing from the data?***\n",
    "***Where are the outliers?***\n",
    "***How can we add, change or remove features to get more out of your data?***"
   ]
  },
  {
   "cell_type": "code",
   "execution_count": 41,
   "metadata": {
    "tags": []
   },
   "outputs": [],
   "source": [
    "import numpy as np\n",
    "import pandas as pd\n",
    "import matplotlib.pyplot as plt\n",
    "import seaborn as sns \n",
    "from scipy import stats\n",
    "from scipy.stats.mstats import winsorize\n",
    "from scipy.stats.mstats import winsorize\n",
    "import warnings\n",
    "warnings.filterwarnings('ignore')\n",
    "warnings.warn(\"this will not show\")\n",
    "\n",
    "%matplotlib inline\n",
    "# %matplotlib notebook\n",
    "\n"
   ]
  },
  {
   "cell_type": "code",
   "execution_count": 4,
   "metadata": {},
   "outputs": [],
   "source": [
    "plt.rcParams[\"figure.figsize\"] = (10,6)\n",
    "# plt.rcParams['figure.dpi'] = 100\n",
    "\n",
    "sns.set_style(\"whitegrid\")\n",
    "pd.set_option('display.float_format', lambda x: '%.3f' % x)\n"
   ]
  },
  {
   "cell_type": "code",
   "execution_count": 5,
   "metadata": {},
   "outputs": [],
   "source": [
    "pd.options.display.max_rows = 1000\n",
    "pd.options.display.max_columns = 150"
   ]
  },
  {
   "cell_type": "code",
   "execution_count": 6,
   "metadata": {
    "tags": []
   },
   "outputs": [],
   "source": [
    "df5= pd.read_csv(\"complete_scout2022.csv\")"
   ]
  },
  {
   "cell_type": "code",
   "execution_count": 7,
   "metadata": {
    "tags": []
   },
   "outputs": [],
   "source": [
    "data1 = df5.copy"
   ]
  },
  {
   "cell_type": "code",
   "execution_count": 10,
   "metadata": {},
   "outputs": [
    {
     "data": {
      "text/plain": [
       "(28630, 30)"
      ]
     },
     "execution_count": 10,
     "metadata": {},
     "output_type": "execute_result"
    }
   ],
   "source": [
    "df5.shape"
   ]
  },
  {
   "cell_type": "code",
   "execution_count": 9,
   "metadata": {},
   "outputs": [
    {
     "name": "stdout",
     "output_type": "stream",
     "text": [
      "<class 'pandas.core.frame.DataFrame'>\n",
      "RangeIndex: 28630 entries, 0 to 28629\n",
      "Data columns (total 30 columns):\n",
      " #   Column                     Non-Null Count  Dtype  \n",
      "---  ------                     --------------  -----  \n",
      " 0   make_model                 28630 non-null  object \n",
      " 1   make                       28630 non-null  object \n",
      " 2   model                      28630 non-null  object \n",
      " 3   location                   28630 non-null  object \n",
      " 4   price                      28630 non-null  float64\n",
      " 5   body_type                  28630 non-null  object \n",
      " 6   type                       28630 non-null  object \n",
      " 7   doors                      28630 non-null  float64\n",
      " 8   warranty                   28630 non-null  object \n",
      " 9   mileage                    28630 non-null  float64\n",
      " 10  gearbox                    28630 non-null  object \n",
      " 11  fuel_type                  28630 non-null  object \n",
      " 12  seller                     28630 non-null  object \n",
      " 13  seats                      28630 non-null  float64\n",
      " 14  engine_size                28630 non-null  float64\n",
      " 15  gears                      28630 non-null  float64\n",
      " 16  co_emissions               28630 non-null  float64\n",
      " 17  drivetrain                 28630 non-null  object \n",
      " 18  empty_weight               28630 non-null  float64\n",
      " 19  full_service_history       28630 non-null  object \n",
      " 20  upholstery                 28630 non-null  object \n",
      " 21  previous_owner             28630 non-null  float64\n",
      " 22  age                        28630 non-null  float64\n",
      " 23  power_in_kw                28612 non-null  float64\n",
      " 24  power_in_hp                28630 non-null  float64\n",
      " 25  combined_cons              28630 non-null  float64\n",
      " 26  num_media                  28630 non-null  float64\n",
      " 27  num_extras                 28630 non-null  float64\n",
      " 28  energy_effic_group         28630 non-null  object \n",
      " 29  safety_&_security_Package  28630 non-null  object \n",
      "dtypes: float64(15), object(15)\n",
      "memory usage: 6.6+ MB\n"
     ]
    }
   ],
   "source": [
    "df5.info()"
   ]
  },
  {
   "cell_type": "code",
   "execution_count": 12,
   "metadata": {},
   "outputs": [
    {
     "data": {
      "text/html": [
       "<div>\n",
       "<style scoped>\n",
       "    .dataframe tbody tr th:only-of-type {\n",
       "        vertical-align: middle;\n",
       "    }\n",
       "\n",
       "    .dataframe tbody tr th {\n",
       "        vertical-align: top;\n",
       "    }\n",
       "\n",
       "    .dataframe thead th {\n",
       "        text-align: right;\n",
       "    }\n",
       "</style>\n",
       "<table border=\"1\" class=\"dataframe\">\n",
       "  <thead>\n",
       "    <tr style=\"text-align: right;\">\n",
       "      <th></th>\n",
       "      <th>count</th>\n",
       "      <th>mean</th>\n",
       "      <th>std</th>\n",
       "      <th>min</th>\n",
       "      <th>25%</th>\n",
       "      <th>50%</th>\n",
       "      <th>75%</th>\n",
       "      <th>max</th>\n",
       "    </tr>\n",
       "  </thead>\n",
       "  <tbody>\n",
       "    <tr>\n",
       "      <th>price</th>\n",
       "      <td>28630.000</td>\n",
       "      <td>23470.662</td>\n",
       "      <td>23953.504</td>\n",
       "      <td>490.000</td>\n",
       "      <td>11990.000</td>\n",
       "      <td>17979.000</td>\n",
       "      <td>27990.000</td>\n",
       "      <td>999999.000</td>\n",
       "    </tr>\n",
       "    <tr>\n",
       "      <th>doors</th>\n",
       "      <td>28630.000</td>\n",
       "      <td>4.140</td>\n",
       "      <td>1.213</td>\n",
       "      <td>1.000</td>\n",
       "      <td>3.000</td>\n",
       "      <td>5.000</td>\n",
       "      <td>5.000</td>\n",
       "      <td>6.000</td>\n",
       "    </tr>\n",
       "    <tr>\n",
       "      <th>mileage</th>\n",
       "      <td>28630.000</td>\n",
       "      <td>72624.556</td>\n",
       "      <td>67628.564</td>\n",
       "      <td>0.000</td>\n",
       "      <td>20290.000</td>\n",
       "      <td>57491.500</td>\n",
       "      <td>106667.500</td>\n",
       "      <td>1440000.000</td>\n",
       "    </tr>\n",
       "    <tr>\n",
       "      <th>seats</th>\n",
       "      <td>28630.000</td>\n",
       "      <td>4.703</td>\n",
       "      <td>0.808</td>\n",
       "      <td>0.000</td>\n",
       "      <td>4.000</td>\n",
       "      <td>5.000</td>\n",
       "      <td>5.000</td>\n",
       "      <td>17.000</td>\n",
       "    </tr>\n",
       "    <tr>\n",
       "      <th>engine_size</th>\n",
       "      <td>28630.000</td>\n",
       "      <td>1745.833</td>\n",
       "      <td>1045.441</td>\n",
       "      <td>0.000</td>\n",
       "      <td>1300.000</td>\n",
       "      <td>1598.000</td>\n",
       "      <td>1984.000</td>\n",
       "      <td>99900.000</td>\n",
       "    </tr>\n",
       "    <tr>\n",
       "      <th>gears</th>\n",
       "      <td>28630.000</td>\n",
       "      <td>5.924</td>\n",
       "      <td>1.203</td>\n",
       "      <td>0.000</td>\n",
       "      <td>6.000</td>\n",
       "      <td>6.000</td>\n",
       "      <td>6.000</td>\n",
       "      <td>10.000</td>\n",
       "    </tr>\n",
       "    <tr>\n",
       "      <th>co_emissions</th>\n",
       "      <td>28630.000</td>\n",
       "      <td>133.224</td>\n",
       "      <td>121.685</td>\n",
       "      <td>0.000</td>\n",
       "      <td>107.000</td>\n",
       "      <td>124.000</td>\n",
       "      <td>155.000</td>\n",
       "      <td>15168.000</td>\n",
       "    </tr>\n",
       "    <tr>\n",
       "      <th>empty_weight</th>\n",
       "      <td>28630.000</td>\n",
       "      <td>1419.383</td>\n",
       "      <td>324.979</td>\n",
       "      <td>75.000</td>\n",
       "      <td>1214.000</td>\n",
       "      <td>1371.000</td>\n",
       "      <td>1595.000</td>\n",
       "      <td>15590.000</td>\n",
       "    </tr>\n",
       "    <tr>\n",
       "      <th>previous_owner</th>\n",
       "      <td>28630.000</td>\n",
       "      <td>1.509</td>\n",
       "      <td>0.920</td>\n",
       "      <td>0.000</td>\n",
       "      <td>1.000</td>\n",
       "      <td>1.000</td>\n",
       "      <td>2.000</td>\n",
       "      <td>9.000</td>\n",
       "    </tr>\n",
       "    <tr>\n",
       "      <th>age</th>\n",
       "      <td>28630.000</td>\n",
       "      <td>6.837</td>\n",
       "      <td>8.758</td>\n",
       "      <td>-180.000</td>\n",
       "      <td>2.000</td>\n",
       "      <td>4.000</td>\n",
       "      <td>8.000</td>\n",
       "      <td>122.000</td>\n",
       "    </tr>\n",
       "    <tr>\n",
       "      <th>power_in_kw</th>\n",
       "      <td>28612.000</td>\n",
       "      <td>119.652</td>\n",
       "      <td>68.477</td>\n",
       "      <td>1.000</td>\n",
       "      <td>80.000</td>\n",
       "      <td>100.000</td>\n",
       "      <td>136.000</td>\n",
       "      <td>924.000</td>\n",
       "    </tr>\n",
       "    <tr>\n",
       "      <th>power_in_hp</th>\n",
       "      <td>28630.000</td>\n",
       "      <td>162.505</td>\n",
       "      <td>92.437</td>\n",
       "      <td>1.000</td>\n",
       "      <td>109.000</td>\n",
       "      <td>136.000</td>\n",
       "      <td>185.000</td>\n",
       "      <td>904.000</td>\n",
       "    </tr>\n",
       "    <tr>\n",
       "      <th>combined_cons</th>\n",
       "      <td>28630.000</td>\n",
       "      <td>5.704</td>\n",
       "      <td>2.795</td>\n",
       "      <td>0.000</td>\n",
       "      <td>4.400</td>\n",
       "      <td>5.300</td>\n",
       "      <td>6.600</td>\n",
       "      <td>99.900</td>\n",
       "    </tr>\n",
       "    <tr>\n",
       "      <th>num_media</th>\n",
       "      <td>28630.000</td>\n",
       "      <td>5.512</td>\n",
       "      <td>3.420</td>\n",
       "      <td>1.000</td>\n",
       "      <td>3.000</td>\n",
       "      <td>5.000</td>\n",
       "      <td>8.000</td>\n",
       "      <td>16.000</td>\n",
       "    </tr>\n",
       "    <tr>\n",
       "      <th>num_extras</th>\n",
       "      <td>28630.000</td>\n",
       "      <td>4.388</td>\n",
       "      <td>3.602</td>\n",
       "      <td>1.000</td>\n",
       "      <td>1.000</td>\n",
       "      <td>3.000</td>\n",
       "      <td>6.000</td>\n",
       "      <td>26.000</td>\n",
       "    </tr>\n",
       "  </tbody>\n",
       "</table>\n",
       "</div>"
      ],
      "text/plain": [
       "                   count      mean       std      min       25%       50%  \\\n",
       "price          28630.000 23470.662 23953.504  490.000 11990.000 17979.000   \n",
       "doors          28630.000     4.140     1.213    1.000     3.000     5.000   \n",
       "mileage        28630.000 72624.556 67628.564    0.000 20290.000 57491.500   \n",
       "seats          28630.000     4.703     0.808    0.000     4.000     5.000   \n",
       "engine_size    28630.000  1745.833  1045.441    0.000  1300.000  1598.000   \n",
       "gears          28630.000     5.924     1.203    0.000     6.000     6.000   \n",
       "co_emissions   28630.000   133.224   121.685    0.000   107.000   124.000   \n",
       "empty_weight   28630.000  1419.383   324.979   75.000  1214.000  1371.000   \n",
       "previous_owner 28630.000     1.509     0.920    0.000     1.000     1.000   \n",
       "age            28630.000     6.837     8.758 -180.000     2.000     4.000   \n",
       "power_in_kw    28612.000   119.652    68.477    1.000    80.000   100.000   \n",
       "power_in_hp    28630.000   162.505    92.437    1.000   109.000   136.000   \n",
       "combined_cons  28630.000     5.704     2.795    0.000     4.400     5.300   \n",
       "num_media      28630.000     5.512     3.420    1.000     3.000     5.000   \n",
       "num_extras     28630.000     4.388     3.602    1.000     1.000     3.000   \n",
       "\n",
       "                      75%         max  \n",
       "price           27990.000  999999.000  \n",
       "doors               5.000       6.000  \n",
       "mileage        106667.500 1440000.000  \n",
       "seats               5.000      17.000  \n",
       "engine_size      1984.000   99900.000  \n",
       "gears               6.000      10.000  \n",
       "co_emissions      155.000   15168.000  \n",
       "empty_weight     1595.000   15590.000  \n",
       "previous_owner      2.000       9.000  \n",
       "age                 8.000     122.000  \n",
       "power_in_kw       136.000     924.000  \n",
       "power_in_hp       185.000     904.000  \n",
       "combined_cons       6.600      99.900  \n",
       "num_media           8.000      16.000  \n",
       "num_extras          6.000      26.000  "
      ]
     },
     "execution_count": 12,
     "metadata": {},
     "output_type": "execute_result"
    }
   ],
   "source": [
    "df5.describe(exclude= \"object\").T"
   ]
  },
  {
   "cell_type": "code",
   "execution_count": 19,
   "metadata": {
    "id": "Is4HLjHWs1MF"
   },
   "outputs": [],
   "source": [
    "# Calculating of limits\n",
    "def limits(df, column):\n",
    "    Q1 = df[column].quantile(0.25)\n",
    "    Q3 = df[column].quantile(0.75)\n",
    "    IQR = Q3-Q1\n",
    "    lower_lim= Q1-1.5*IQR\n",
    "    upper_lim= Q3+1.5*IQR\n",
    "    \n",
    "    print(\"Lower Limit:\",lower_lim) \n",
    "    print(\"Upper limit:\", upper_lim)\n",
    "\n"
   ]
  },
  {
   "cell_type": "code",
   "execution_count": 21,
   "metadata": {},
   "outputs": [],
   "source": [
    "#Counting of Outliers\n",
    "def outliers(df5, column):\n",
    "    Q1 = df5[column].quantile(1/4)\n",
    "    Q3 = df5[column].quantile(3/4)\n",
    "    IQR = Q3 - Q1\n",
    "    lower_lim = Q1 - 1.5 * IQR\n",
    "    upper_lim = Q3 + 1.5 * IQR\n",
    "    \n",
    "    return ((df5[column] < lower_lim) | (df5[column] > upper_lim)).sum()"
   ]
  },
  {
   "cell_type": "code",
   "execution_count": 22,
   "metadata": {},
   "outputs": [],
   "source": [
    "# Dropping of Outliers\n",
    "def dropping_of_outliers(df, column):\n",
    "    Q1 = df5[column].quantile(0.25)\n",
    "    Q3 = df5[column].quantile(0.75)\n",
    "    IQR = Q3-Q1\n",
    "    lower_lim= Q1-1.5*IQR\n",
    "    upper_lim= Q3+1.5*IQR\n",
    "    \n",
    "    return df5[column].loc[~((df5[column]<lower_lim) | (df5[column]>upper_lim))]"
   ]
  },
  {
   "cell_type": "code",
   "execution_count": 23,
   "metadata": {},
   "outputs": [],
   "source": [
    "#Explore different quantiles at the upper end\n",
    "def winsorize_percentage_selection(df,column):\n",
    "    print('90% quantile:   ', df5[column].quantile(0.90))      \n",
    "    print('92.5% quantile: ', df5[column].quantile(0.925))      \n",
    "    print('95% quantile:   ', df5[column].quantile(0.95))       \n",
    "    print('97.5% quantile: ', df5[column].quantile(0.975))      \n",
    "    print('99% quantile:   ', df5[column].quantile(0.99))       \n",
    "    print('99.9% quantile: ', df5[column].quantile(0.999))"
   ]
  },
  {
   "cell_type": "markdown",
   "metadata": {},
   "source": [
    "## price"
   ]
  },
  {
   "cell_type": "code",
   "execution_count": 24,
   "metadata": {},
   "outputs": [
    {
     "data": {
      "text/plain": [
       "28630"
      ]
     },
     "execution_count": 24,
     "metadata": {},
     "output_type": "execute_result"
    }
   ],
   "source": [
    "df5.price.count()"
   ]
  },
  {
   "cell_type": "code",
   "execution_count": 25,
   "metadata": {},
   "outputs": [
    {
     "data": {
      "text/plain": [
       "count    28630.000\n",
       "mean     23470.662\n",
       "std      23953.504\n",
       "min        490.000\n",
       "25%      11990.000\n",
       "50%      17979.000\n",
       "75%      27990.000\n",
       "max     999999.000\n",
       "Name: price, dtype: float64"
      ]
     },
     "execution_count": 25,
     "metadata": {},
     "output_type": "execute_result"
    }
   ],
   "source": [
    "df5.price.describe()"
   ]
  },
  {
   "cell_type": "code",
   "execution_count": 38,
   "metadata": {},
   "outputs": [
    {
     "data": {
      "text/plain": [
       "5847    490.000\n",
       "19565   500.000\n",
       "5513    500.000\n",
       "17516   590.000\n",
       "5291    600.000\n",
       "5351    600.000\n",
       "5296    699.000\n",
       "23792   700.000\n",
       "3375    700.000\n",
       "5519    740.000\n",
       "Name: price, dtype: float64"
      ]
     },
     "execution_count": 38,
     "metadata": {},
     "output_type": "execute_result"
    }
   ],
   "source": [
    "df5.price.sort_values(ascending= True).head(10)"
   ]
  },
  {
   "cell_type": "code",
   "execution_count": 27,
   "metadata": {},
   "outputs": [
    {
     "name": "stdout",
     "output_type": "stream",
     "text": [
      "Lower Limit: -12010.0\n",
      "Upper limit: 51990.0\n"
     ]
    }
   ],
   "source": [
    "limits(df5,'price')"
   ]
  },
  {
   "cell_type": "code",
   "execution_count": 32,
   "metadata": {
    "scrolled": true
   },
   "outputs": [
    {
     "data": {
      "image/png": "[encoded data removed]",
      "text/plain": [
       "<Figure size 1500x800 with 2 Axes>"
      ]
     },
     "metadata": {},
     "output_type": "display_data"
    }
   ],
   "source": [
    "plt.figure(figsize=(15,8))\n",
    "plt.subplot(121)\n",
    "plt.boxplot(df5.price)\n",
    "plt.subplot(122)\n",
    "plt.hist(df5.price,bins=20);\n",
    "\n"
   ]
  },
  {
   "cell_type": "code",
   "execution_count": 34,
   "metadata": {},
   "outputs": [
    {
     "data": {
      "text/plain": [
       "1908"
      ]
     },
     "execution_count": 34,
     "metadata": {},
     "output_type": "execute_result"
    }
   ],
   "source": [
    "outliers(df5,'price')"
   ]
  },
  {
   "cell_type": "code",
   "execution_count": 36,
   "metadata": {},
   "outputs": [
    {
     "name": "stdout",
     "output_type": "stream",
     "text": [
      "90% quantile:    42977.3\n",
      "92.5% quantile:  49574.250000000065\n",
      "95% quantile:    57500.0\n",
      "97.5% quantile:  72940.0\n",
      "99% quantile:    109897.09999999999\n",
      "99.9% quantile:  219927.50000000704\n"
     ]
    }
   ],
   "source": [
    "winsorize_percentage_selection(df5,'price')"
   ]
  },
  {
   "cell_type": "code",
   "execution_count": null,
   "metadata": {},
   "outputs": [],
   "source": [
    "%97.5 Quantilehas been selected"
   ]
  },
  {
   "cell_type": "code",
   "execution_count": 43,
   "metadata": {},
   "outputs": [],
   "source": [
    "#df5.price = winsorize(df5['price'],(0, 0.025)), inplace =True\n",
    "df5['price'] = winsorize(df5['price'], (0, 0.025))\n",
    "df5['price'].fillna(method='ffill', inplace=True)"
   ]
  },
  {
   "cell_type": "code",
   "execution_count": 44,
   "metadata": {},
   "outputs": [
    {
     "data": {
      "image/png": "[encoded data removed]",
      "text/plain": [
       "<Figure size 1500x800 with 2 Axes>"
      ]
     },
     "metadata": {},
     "output_type": "display_data"
    }
   ],
   "source": [
    "plt.figure(figsize=(15,8))\n",
    "plt.subplot(121)\n",
    "plt.boxplot(df5.price)\n",
    "plt.subplot(122)\n",
    "plt.hist(df5.price,bins=20);\n"
   ]
  },
  {
   "cell_type": "code",
   "execution_count": 45,
   "metadata": {},
   "outputs": [
    {
     "data": {
      "text/plain": [
       "count   28630.000\n",
       "mean    22292.614\n",
       "std     15673.925\n",
       "min       490.000\n",
       "25%     11990.000\n",
       "50%     17979.000\n",
       "75%     27990.000\n",
       "max     72940.000\n",
       "Name: price, dtype: float64"
      ]
     },
     "execution_count": 45,
     "metadata": {},
     "output_type": "execute_result"
    }
   ],
   "source": [
    "df5.price.describe()"
   ]
  },
  {
   "cell_type": "markdown",
   "metadata": {},
   "source": [
    "## power_in_kw"
   ]
  },
  {
   "cell_type": "code",
   "execution_count": 46,
   "metadata": {},
   "outputs": [
    {
     "data": {
      "text/plain": [
       "count   28612.000\n",
       "mean      119.652\n",
       "std        68.477\n",
       "min         1.000\n",
       "25%        80.000\n",
       "50%       100.000\n",
       "75%       136.000\n",
       "max       924.000\n",
       "Name: power_in_kw, dtype: float64"
      ]
     },
     "execution_count": 46,
     "metadata": {},
     "output_type": "execute_result"
    }
   ],
   "source": [
    "df5.power_in_kw.describe()"
   ]
  },
  {
   "cell_type": "code",
   "execution_count": 47,
   "metadata": {},
   "outputs": [
    {
     "data": {
      "image/png": "[encoded data removed]",
      "text/plain": [
       "<Figure size 1500x800 with 2 Axes>"
      ]
     },
     "metadata": {},
     "output_type": "display_data"
    }
   ],
   "source": [
    "plt.figure(figsize=(15,8))\n",
    "plt.subplot(121)\n",
    "plt.boxplot(df5.price)\n",
    "plt.subplot(122)\n",
    "plt.hist(df5.power_in_kw,bins=20);\n"
   ]
  },
  {
   "cell_type": "code",
   "execution_count": 48,
   "metadata": {},
   "outputs": [
    {
     "name": "stdout",
     "output_type": "stream",
     "text": [
      "Lower Limit: -4.0\n",
      "Upper limit: 220.0\n"
     ]
    }
   ],
   "source": [
    "limits(df5,'power_in_kw')"
   ]
  },
  {
   "cell_type": "code",
   "execution_count": 49,
   "metadata": {},
   "outputs": [
    {
     "data": {
      "text/plain": [
       "2644"
      ]
     },
     "execution_count": 49,
     "metadata": {},
     "output_type": "execute_result"
    }
   ],
   "source": [
    "outliers(df5,'power_in_kw')"
   ]
  },
  {
   "cell_type": "code",
   "execution_count": 50,
   "metadata": {},
   "outputs": [
    {
     "name": "stdout",
     "output_type": "stream",
     "text": [
      "90% quantile:    206.0\n",
      "92.5% quantile:  228.0\n",
      "95% quantile:    270.0\n",
      "97.5% quantile:  330.0\n",
      "99% quantile:    375.0\n",
      "99.9% quantile:  532.72300000002\n"
     ]
    }
   ],
   "source": [
    "winsorize_percentage_selection(df5,'power_in_kw')"
   ]
  },
  {
   "cell_type": "code",
   "execution_count": null,
   "metadata": {},
   "outputs": [],
   "source": []
  },
  {
   "cell_type": "code",
   "execution_count": null,
   "metadata": {},
   "outputs": [],
   "source": []
  },
  {
   "cell_type": "code",
   "execution_count": null,
   "metadata": {},
   "outputs": [],
   "source": []
  },
  {
   "cell_type": "code",
   "execution_count": null,
   "metadata": {},
   "outputs": [],
   "source": []
  },
  {
   "cell_type": "code",
   "execution_count": null,
   "metadata": {},
   "outputs": [],
   "source": []
  },
  {
   "cell_type": "markdown",
   "metadata": {
    "id": "EKxmsgfts1MG"
   },
   "source": [
    "# Final Step (Checking final situation of data via graphs)"
   ]
  },
  {
   "cell_type": "code",
   "execution_count": null,
   "metadata": {},
   "outputs": [],
   "source": []
  },
  {
   "cell_type": "code",
   "execution_count": null,
   "metadata": {},
   "outputs": [],
   "source": []
  },
  {
   "cell_type": "code",
   "execution_count": null,
   "metadata": {},
   "outputs": [],
   "source": []
  },
  {
   "cell_type": "code",
   "execution_count": null,
   "metadata": {
    "id": "8mgL_Bd0s1MG"
   },
   "outputs": [],
   "source": []
  },
  {
   "cell_type": "markdown",
   "metadata": {
    "id": "2PgUVPoes1MH"
   },
   "source": [
    "## Export dataframe to csv file (without dummy)"
   ]
  },
  {
   "cell_type": "code",
   "execution_count": null,
   "metadata": {
    "id": "Byg_o2ZMs1MI"
   },
   "outputs": [],
   "source": [
    "#df.to_csv('output.csv', index=False)\n",
    "#df1= df.to_csv(\"final_scout_not_dummy.csv\", index=False)\n",
    "#df1"
   ]
  },
  {
   "cell_type": "markdown",
   "metadata": {
    "id": "hrw9hr-3s1MJ"
   },
   "source": [
    "# Dummy Operation"
   ]
  },
  {
   "cell_type": "code",
   "execution_count": null,
   "metadata": {
    "id": "faDyWTC9s1MJ"
   },
   "outputs": [],
   "source": []
  },
  {
   "cell_type": "markdown",
   "metadata": {
    "id": "DUOdihlqs1MJ"
   },
   "source": [
    "## Export dataframe to csv file (dummy)"
   ]
  },
  {
   "cell_type": "code",
   "execution_count": null,
   "metadata": {
    "id": "IJT7Yl1Us1MK"
   },
   "outputs": [],
   "source": [
    "#df_dummied.to_csv(\"final_scout_dummy.csv\", index=False)"
   ]
  },
  {
   "cell_type": "code",
   "execution_count": null,
   "metadata": {},
   "outputs": [],
   "source": [
    "plt.figure(figsize =(16,10))\n",
    "sns.scatterplot(x=df.empty_weight.value_counts(dropna=False).index, y=df.empty_weight.value_counts(dropna=False));"
   ]
  },
  {
   "cell_type": "code",
   "execution_count": null,
   "metadata": {},
   "outputs": [],
   "source": []
  }
 ],
 "metadata": {
  "colab": {
   "name": "DAwPy-Capstone_Project_(AutoScout)_Student.ipynb",
   "provenance": []
  },
  "kernelspec": {
   "display_name": "Python 3 (ipykernel)",
   "language": "python",
   "name": "python3"
  },
  "language_info": {
   "codemirror_mode": {
    "name": "ipython",
    "version": 3
   },
   "file_extension": ".py",
   "mimetype": "text/x-python",
   "name": "python",
   "nbconvert_exporter": "python",
   "pygments_lexer": "ipython3",
   "version": "3.10.9"
  },
  "toc": {
   "base_numbering": 1,
   "nav_menu": {},
   "number_sections": false,
   "sideBar": true,
   "skip_h1_title": false,
   "title_cell": "Table of Contents",
   "title_sidebar": "Contents",
   "toc_cell": false,
   "toc_position": {},
   "toc_section_display": true,
   "toc_window_display": false
  },
  "toc-autonumbering": true,
  "toc-showcode": true,
  "toc-showmarkdowntxt": true,
  "toc-showtags": true,
  "vp": {
   "vp_config_version": "1.0.0",
   "vp_menu_width": 273,
   "vp_note_display": false,
   "vp_note_width": 0,
   "vp_position": {
    "width": 278
   },
   "vp_section_display": false,
   "vp_signature": "VisualPython"
  }
 },
 "nbformat": 4,
 "nbformat_minor": 4
}
