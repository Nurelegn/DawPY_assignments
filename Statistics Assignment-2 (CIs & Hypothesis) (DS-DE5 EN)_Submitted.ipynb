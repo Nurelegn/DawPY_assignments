{
 "cells": [
  {
   "cell_type": "markdown",
   "id": "0122b30b",
   "metadata": {},
   "source": [
    "Statistics Assignment-2 (CIs & Hypothesis) (DS-DE5 EN)\n",
    "Opened: Tuesday, 18 April 2023, 12:00 AM\n",
    "Due: Tuesday, 25 April 2023, 11:59 PM\n"
   ]
  },
  {
   "cell_type": "code",
   "execution_count": 1,
   "id": "5aba8593",
   "metadata": {},
   "outputs": [],
   "source": [
    "import numpy as np\n",
    "import pandas as pd\n",
    "import matplotlib.pyplot as plt\n",
    "import scipy.stats as stats\n",
    "import scipy.special as sp\n",
    "\n",
    "%matplotlib inline\n"
   ]
  },
  {
   "cell_type": "markdown",
   "id": "88021661",
   "metadata": {},
   "source": [
    "CONFIDENCE INTERVALS"
   ]
  },
  {
   "cell_type": "markdown",
   "id": "263b019d",
   "metadata": {},
   "source": [
    "EXERCISE 1. What is the normal body temperature for healthy humans? A random sample of 130 healthy human body temperatures provided by Allen Shoemaker yielded 98.25 degrees and standard deviation 0.73 degrees. "
   ]
  },
  {
   "cell_type": "code",
   "execution_count": 2,
   "id": "f3a395a7",
   "metadata": {},
   "outputs": [],
   "source": [
    "n = 130 \n",
    "mu = 98.25  \n",
    "sd= 0.73  "
   ]
  },
  {
   "cell_type": "code",
   "execution_count": 3,
   "id": "610fc47e",
   "metadata": {},
   "outputs": [],
   "source": [
    "# determining the values of the parameters\n",
    "# import the random module\n",
    "import random"
   ]
  },
  {
   "cell_type": "code",
   "execution_count": 4,
   "id": "7838e3c6",
   "metadata": {},
   "outputs": [
    {
     "data": {
      "text/plain": [
       "array([ 98.96717208,  97.33707789,  97.81267781,  98.60093254,\n",
       "        98.19970666,  98.92174557,  97.69597507,  98.83581691,\n",
       "        98.42243708,  99.29221009,  98.67416845,  98.83182187,\n",
       "        97.58966932, 100.01539646,  97.26171921,  97.69783913,\n",
       "        98.14159306,  99.38765216,  96.79635518,  98.62556361,\n",
       "        98.72357362,  99.37992232,  98.77520615,  98.2788875 ,\n",
       "        98.71838194,  99.27663063,  98.55911137,  98.84121265,\n",
       "        99.26044488,  97.58077607,  98.0287205 ,  98.4242675 ,\n",
       "        98.24304288,  99.19624164,  98.61707885,  97.30002984,\n",
       "        98.69175763,  98.50049935,  98.25195846,  98.4549797 ,\n",
       "        97.10276464,  98.7847337 ,  98.5214677 ,  98.5123688 ,\n",
       "        98.30356724,  99.40747194,  97.78886444,  97.45828616,\n",
       "        97.88230477,  98.03495618,  99.07402088,  97.37491627,\n",
       "        98.58027952,  98.74252871,  97.1695614 ,  98.23838201,\n",
       "        98.26888348,  98.95091432,  97.11004638,  98.37697053,\n",
       "        97.61504503,  97.35690758,  98.63548523,  97.98217996,\n",
       "        98.63212645,  98.54204549,  98.58716364,  98.45159332,\n",
       "        99.74725771,  99.1612277 ,  99.4522903 ,  99.25677742,\n",
       "        97.43839259,  98.00851338,  97.48357401,  96.71130076,\n",
       "        97.97684813,  98.97278719,  98.8499425 ,  97.96582262,\n",
       "        97.79841053,  99.00561084,  98.54423579,  98.28324041,\n",
       "        97.77861371,  98.11791252,  97.25893626,  98.02544676,\n",
       "        98.92626879,  98.02791176,  99.27587858,  99.54517696,\n",
       "        98.19919093,  99.23239907,  98.83694665,  98.35435998,\n",
       "        98.09368898,  97.89707061,  98.54643123,  97.48860532,\n",
       "        98.06700192,  98.76374534,  98.03723204,  97.39900864,\n",
       "        98.33964167,  98.42628791,  97.34003919,  99.18285303,\n",
       "        97.32841825,  97.70664658,  98.98414381,  96.50283331,\n",
       "        98.54790683,  97.98109286,  98.46529768,  98.18721832,\n",
       "        98.83376095,  97.81792087,  98.27392264,  97.87846019,\n",
       "        99.09222315,  97.82433468,  98.79673535,  98.01704145,\n",
       "        97.89930087,  99.06298053,  97.69831658,  98.77323211,\n",
       "        98.4558439 ,  98.77404036])"
      ]
     },
     "execution_count": 4,
     "metadata": {},
     "output_type": "execute_result"
    }
   ],
   "source": [
    "body_Temp = [] \n",
    "mu = 98.25\n",
    "sigma =0.73\n",
    "  \n",
    "# using the gauss() method\n",
    "# store the random numbers in a  \n",
    "# list \n",
    "    \n",
    "for i in range(130): \n",
    "    temp = random.gauss(mu, sigma)\n",
    "    body_Temp.append(temp) \n",
    "body_Temp= np.array(body_Temp)\n",
    "body_Temp"
   ]
  },
  {
   "cell_type": "code",
   "execution_count": 5,
   "id": "f22537d5",
   "metadata": {},
   "outputs": [
    {
     "data": {
      "image/png": "[encoded data removed]",
      "text/plain": [
       "<Figure size 500x500 with 1 Axes>"
      ]
     },
     "metadata": {},
     "output_type": "display_data"
    }
   ],
   "source": [
    "# plotting a graph \n",
    "import seaborn as sns\n",
    "sns.displot(x=body_Temp, kind = \"kde\") \n",
    "plt.show()"
   ]
  },
  {
   "cell_type": "code",
   "execution_count": 6,
   "id": "4b553a63",
   "metadata": {},
   "outputs": [],
   "source": [
    "H0: mu = 98.25\n",
    "H1: mu != 98.25\n"
   ]
  },
  {
   "cell_type": "code",
   "execution_count": 7,
   "id": "2478cf31",
   "metadata": {},
   "outputs": [
    {
     "data": {
      "text/plain": [
       "0.06402523540941313"
      ]
     },
     "execution_count": 7,
     "metadata": {},
     "output_type": "execute_result"
    }
   ],
   "source": [
    "sem = 0.73 / np.sqrt(130)\n",
    "sem"
   ]
  },
  {
   "cell_type": "code",
   "execution_count": 8,
   "id": "2cfa4424",
   "metadata": {},
   "outputs": [],
   "source": [
    "from scipy.stats import zscore\n",
    "from statsmodels.stats.weightstats import ztest as ztest"
   ]
  },
  {
   "cell_type": "code",
   "execution_count": 9,
   "id": "508fd774",
   "metadata": {},
   "outputs": [],
   "source": [
    "zscore, p_value = ztest(body_Temp, value=98.25)\n"
   ]
  },
  {
   "cell_type": "code",
   "execution_count": 10,
   "id": "964a5daa",
   "metadata": {},
   "outputs": [
    {
     "data": {
      "text/plain": [
       "1.2847774786897783"
      ]
     },
     "execution_count": 10,
     "metadata": {},
     "output_type": "execute_result"
    }
   ],
   "source": [
    "zscore"
   ]
  },
  {
   "cell_type": "code",
   "execution_count": 11,
   "id": "f3dcf685",
   "metadata": {},
   "outputs": [
    {
     "data": {
      "text/plain": [
       "0.1988700545149562"
      ]
     },
     "execution_count": 11,
     "metadata": {},
     "output_type": "execute_result"
    }
   ],
   "source": [
    "p_value"
   ]
  },
  {
   "cell_type": "code",
   "execution_count": 12,
   "id": "71f97868",
   "metadata": {},
   "outputs": [],
   "source": [
    "alpha = 0.001"
   ]
  },
  {
   "cell_type": "code",
   "execution_count": 13,
   "id": "3d540374",
   "metadata": {},
   "outputs": [
    {
     "name": "stdout",
     "output_type": "stream",
     "text": [
      "At 0.001 level of significance, we fail to reject the null hypothesis. We don't have strong evidence to reject the null hypothesis. \n"
     ]
    }
   ],
   "source": [
    "if p_value< alpha:\n",
    "    print('At {} level of significance, we can reject the null hypothesis in favor of alternative hypothesis. Avg fuel consumption for automatic and manual cars are not the same.'.format(alpha))\n",
    "else:\n",
    "    print(\"At {} level of significance, we fail to reject the null hypothesis. We don't have strong evidence to reject the null hypothesis. \".format(alpha))"
   ]
  },
  {
   "cell_type": "markdown",
   "id": "36d32057",
   "metadata": {},
   "source": [
    "Give a 99% confidence interval for the average body temperature of healthy people."
   ]
  },
  {
   "cell_type": "code",
   "execution_count": 14,
   "id": "f686ce84",
   "metadata": {},
   "outputs": [
    {
     "data": {
      "text/plain": [
       "(98.08508192246582, 98.41491807753418)"
      ]
     },
     "execution_count": 14,
     "metadata": {},
     "output_type": "execute_result"
    }
   ],
   "source": [
    "ci_z_Temp = stats.norm.interval(0.99, 98.25, sem)\n",
    "ci_z_Temp"
   ]
  },
  {
   "cell_type": "code",
   "execution_count": 15,
   "id": "df203063",
   "metadata": {},
   "outputs": [],
   "source": [
    "import seaborn as sns"
   ]
  },
  {
   "cell_type": "code",
   "execution_count": 45,
   "id": "64f079b4",
   "metadata": {},
   "outputs": [
    {
     "data": {
      "image/png": "[encoded data removed]",
      "text/plain": [
       "<Figure size 500x500 with 1 Axes>"
      ]
     },
     "metadata": {},
     "output_type": "display_data"
    }
   ],
   "source": [
    "sns.displot(x=ci_z_Temp, kind = \"kde\" );"
   ]
  },
  {
   "cell_type": "markdown",
   "id": "bb2f4a36",
   "metadata": {},
   "source": [
    "EXERCISE 2. The administrators for a hospital wished to estimate the average number of days required for inpatient treatment of patients between the ages of 25 and 34. A random sample of 500 hospital patients between these ages produced a mean and standard deviation equal to 5.4 and 3.1 days, respectively."
   ]
  },
  {
   "cell_type": "code",
   "execution_count": 17,
   "id": "c7c1891a",
   "metadata": {},
   "outputs": [
    {
     "data": {
      "text/plain": [
       "array([ 3.63565267,  5.94676456,  4.56657567,  8.86552162,  8.55545676,\n",
       "        2.7144402 ,  5.19226791,  5.67740742, -0.20272186,  6.03846875,\n",
       "        5.08484444,  9.07857904,  3.04364378,  6.98405465,  4.17450685,\n",
       "        5.39593773,  3.65312487, 10.82238189,  4.70569927,  7.86473224,\n",
       "        4.07748759,  6.91774309,  0.54811719,  6.90613505,  7.56857671,\n",
       "        1.27100975,  3.38549549,  2.57883296, 10.33273154,  4.93280657,\n",
       "        4.02460901,  3.8234396 ,  4.23754992,  6.07553596,  4.78134123,\n",
       "        1.96271792,  6.417277  ,  4.02093579,  5.89766323, 11.28787627,\n",
       "        6.2162635 ,  8.64396019,  3.87025556,  3.4543513 ,  7.97743382,\n",
       "        5.47287432, 10.3105602 ,  5.259857  ,  7.0443408 ,  7.76865888,\n",
       "       10.43290006,  8.43697296,  4.44676859,  9.98742675,  7.44052223,\n",
       "        4.2588282 ,  7.50382192,  6.71555085,  8.24586549,  9.31862745,\n",
       "        1.90661731, 10.48855983,  5.18924582,  5.38889599,  6.33973344,\n",
       "        5.51262299,  2.32833047,  2.31867187,  5.59384003,  6.16657588,\n",
       "        9.74442614,  4.84494117,  4.55992008,  7.62707632,  5.52155897,\n",
       "        1.24565748,  0.95839152,  7.00021556,  8.18598738,  6.39533578,\n",
       "        5.46669713,  5.30458344, -2.43308033,  5.91216002,  2.09992095,\n",
       "        1.45799702,  4.56543437,  3.68782668,  2.05701478,  2.55152345,\n",
       "        3.40526194,  3.29703122,  3.81319439,  5.26843117,  7.93537836,\n",
       "        6.57867502,  2.04612622,  4.71802491,  7.18165826, -1.16418887,\n",
       "        3.37134448,  5.60266171,  9.66150332,  6.75493808,  5.15037275,\n",
       "        4.04974064,  0.51455174,  3.08387459,  6.28816562,  8.81183663,\n",
       "        7.02062809,  8.05715416,  8.38818519,  4.99821862,  7.07701173,\n",
       "        6.71367367,  4.92470549,  2.13655277, -0.08875676,  5.07629561,\n",
       "        8.95795725,  9.63107896,  0.73050123,  3.49717928,  7.5791063 ,\n",
       "        3.24581026,  9.89041118,  9.9108301 ,  6.95444853, -0.88635049,\n",
       "        8.21508831,  5.67085983,  3.77230507,  9.8061625 ,  1.31769042,\n",
       "        5.93627318,  2.68681664,  8.53789454,  5.71184419,  9.98885769,\n",
       "        9.14064523,  8.15593027,  6.75949071,  2.15948164,  0.02926058,\n",
       "        6.21909909, -0.23384301,  6.09835715,  3.70161671,  7.23910556,\n",
       "        7.27929742,  4.50184365, 10.15693427,  8.4973271 ,  3.6891725 ,\n",
       "        3.77576539,  3.35646383,  6.43751978,  3.52741633,  1.14914021,\n",
       "        4.34257076,  7.91936175,  6.13351866,  5.90075147,  4.95986841,\n",
       "        0.92006269,  7.02840234, 10.57591327,  7.89053863,  9.10212826,\n",
       "        4.47034502,  3.38605989, 10.28252788,  8.085309  ,  5.38801578,\n",
       "       11.10335196,  3.08228177,  8.09606191,  4.62898868,  4.92513371,\n",
       "        2.78011531,  5.32733899,  8.67009507,  4.09839787,  3.94971668,\n",
       "        2.8554452 ,  5.2932548 , 11.2851253 ,  2.93375368,  7.59246996,\n",
       "        9.42757533,  4.51254327,  3.42521245,  4.90809904, -0.46096101,\n",
       "        7.06195942,  2.47755686, -2.22433333,  4.76211521, -1.38750443,\n",
       "        9.1464577 ,  3.41181588, -1.06584008,  7.46235294,  9.16632082,\n",
       "        6.28327461,  6.92114081, 11.30389143,  5.72338369,  6.15134005,\n",
       "        7.69235928,  2.75359334,  7.56628179,  8.27256568, 10.06301097,\n",
       "        5.57305651,  5.38494277,  6.46897661,  4.84083168,  3.0003037 ,\n",
       "       11.76211952,  2.64850307, 12.04736188,  2.81476524,  4.48035182,\n",
       "        4.0633971 , 11.06292718,  4.17281216,  2.83854405, -0.95638074,\n",
       "        6.67190195,  4.81664974,  6.52621409,  5.32342768,  9.7126924 ,\n",
       "        5.96626787,  2.43596743,  4.72180713,  3.48001515,  1.66753098,\n",
       "        2.0870173 ,  2.54346616,  6.59212165,  4.20165637, 12.53330247,\n",
       "        6.66817053,  5.00440062,  6.67946448,  1.25434752,  6.13100392,\n",
       "        8.067776  ,  4.24491116,  5.86371691, 12.33433751,  8.5908702 ,\n",
       "        0.29793881,  8.46213519,  4.02787696,  0.02992276,  3.40147636,\n",
       "       11.28136662, -0.38572201,  3.62252161,  5.96589762,  4.44700187,\n",
       "        9.78137711,  5.21201483,  8.86070595,  5.1077565 ,  4.4584147 ,\n",
       "        7.63965998,  4.85755261,  9.4975285 , -0.79630442,  8.36805667,\n",
       "        6.20550609,  4.44135814, -4.84331786,  6.66390359,  4.65662509,\n",
       "        3.26513809,  0.5616013 ,  5.70747254,  1.2493861 ,  7.81439654,\n",
       "        4.50346457,  7.58229926,  0.97673873,  6.33469026,  3.28879689,\n",
       "        2.08589874,  0.81322094,  7.34735558,  4.70318991,  4.80498808,\n",
       "        3.28288646,  0.5236413 ,  3.63410942,  9.36531665,  9.08143233,\n",
       "        0.28314583,  2.02496975,  5.80155663,  1.3998447 ,  6.96231083,\n",
       "        4.18174163,  7.68702972,  0.98567772, -0.18491484,  5.57929788,\n",
       "        7.05366399,  2.88316402,  5.50445024,  2.11220552,  6.68781305,\n",
       "        9.17448301,  1.90364958,  7.0788553 ,  6.07325888,  9.45653265,\n",
       "        5.79512444,  0.32132191, 10.23046395,  5.55568357,  8.02294729,\n",
       "        1.69559246,  4.91733134,  1.25019051, 10.80352434,  5.29864662,\n",
       "        5.65577375,  1.74561912,  4.89323837,  4.76088436,  5.50514885,\n",
       "        2.87099136,  4.10187251, 10.13968913,  6.12020297,  3.65214248,\n",
       "        3.20427056,  8.2942646 ,  4.5859468 ,  2.92442234,  8.13361257,\n",
       "        9.50372063,  8.11111884, -1.48510158,  9.15242618,  8.55360747,\n",
       "        6.24370744,  7.45978347,  5.38413951,  3.96665391,  8.71914017,\n",
       "        6.89309929,  2.10842943,  7.7945874 ,  8.52633501,  7.17138502,\n",
       "        4.33403929,  8.7925557 ,  4.91021935,  2.46607428,  6.11266953,\n",
       "        5.70308284,  5.16514935,  1.67175207,  0.05162402,  6.55436962,\n",
       "        8.27572685,  4.72829834,  3.7817107 ,  3.78001338,  2.25253839,\n",
       "        1.68168428,  5.47945835, 10.71259415,  5.84032026,  3.5468234 ,\n",
       "        8.37722254,  7.59761276,  7.09941244,  3.56223667,  4.79038867,\n",
       "        9.01316844,  5.93539169,  5.79250204,  8.56416197,  6.91654656,\n",
       "        6.65214959,  3.20388354,  4.4380139 ,  4.35475602,  6.69865395,\n",
       "        7.65653302,  4.64249301,  3.90039987,  9.23149554,  3.31144643,\n",
       "        5.25393502,  2.52843331,  7.22252888, -0.93907682,  8.66145099,\n",
       "        6.00258556,  7.09247989,  5.18288685,  6.65989361,  6.41106364,\n",
       "        8.33454346,  5.89718928,  8.45736161,  3.8041613 ,  6.56996662,\n",
       "        1.55357363,  0.81034094, -2.46529853, 10.28167101,  3.06075451,\n",
       "        7.41883255,  1.58239315,  5.4752621 , 10.10328865,  3.80758934,\n",
       "        4.3965571 ,  5.59625489, 10.41358855,  6.80011489,  2.22724648,\n",
       "        6.87566081, 10.18319196,  6.99191706,  3.32333822,  8.06736942,\n",
       "        9.09519578,  9.94437328,  6.44200777,  4.8051648 ,  2.08960053,\n",
       "        4.70206537,  3.36494797,  3.53691631,  8.5541328 ,  9.12225361,\n",
       "        1.63771827,  6.32423514,  8.64131455,  2.75239645,  6.21487305,\n",
       "        7.19478144,  3.80325868,  4.38531141,  4.08723457,  4.06967957,\n",
       "       -2.13900271, -1.30396529,  0.09026268,  4.98885807,  6.01231945,\n",
       "        9.14824893,  5.96318268,  2.65760798,  4.54710316,  3.51705918,\n",
       "        8.52080976,  8.23103622,  3.73434177,  3.73361934,  4.12624986,\n",
       "        4.28638861, -1.40188189,  6.57332741,  9.83896445,  4.56772826,\n",
       "        6.61085297,  6.21287939,  4.90449648,  4.61831831,  7.32898   ,\n",
       "        5.72181204,  7.09256961,  3.90582905,  6.8994676 , -0.19002535,\n",
       "       10.10894695,  4.24989282,  3.81751445,  4.65337556,  8.16021026,\n",
       "        3.73870725,  8.00695958,  7.07411172,  9.58200586,  4.59915122,\n",
       "       10.96977894,  2.21147092, 10.00229525,  7.16357716,  2.20807761])"
      ]
     },
     "execution_count": 17,
     "metadata": {},
     "output_type": "execute_result"
    }
   ],
   "source": [
    "days_inp = [] \n",
    "mu1 = 5.4\n",
    "sigma1 =3.1\n",
    "  \n",
    "# using the gauss() method\n",
    "# store the random numbers in a  \n",
    "# list \n",
    "    \n",
    "for i in range(500): \n",
    "    days = np.random.normal(mu1, sigma1)\n",
    "    \n",
    "    days_inp.append(days) \n",
    "days_inp= np.array(days_inp)\n",
    "days_inp"
   ]
  },
  {
   "cell_type": "code",
   "execution_count": 18,
   "id": "e052be8c",
   "metadata": {},
   "outputs": [
    {
     "data": {
      "text/plain": [
       "(500,)"
      ]
     },
     "execution_count": 18,
     "metadata": {},
     "output_type": "execute_result"
    }
   ],
   "source": [
    "days_inp.shape"
   ]
  },
  {
   "cell_type": "code",
   "execution_count": 19,
   "id": "1f5117ba",
   "metadata": {},
   "outputs": [
    {
     "data": {
      "image/png": "[encoded data removed]",
      "text/plain": [
       "<Figure size 500x500 with 1 Axes>"
      ]
     },
     "metadata": {},
     "output_type": "display_data"
    }
   ],
   "source": [
    "sns.displot(x=days_inp, kind = \"kde\") \n",
    "plt.show()"
   ]
  },
  {
   "cell_type": "code",
   "execution_count": 20,
   "id": "567fde25",
   "metadata": {},
   "outputs": [
    {
     "data": {
      "text/plain": [
       "12.533302473352178"
      ]
     },
     "execution_count": 20,
     "metadata": {},
     "output_type": "execute_result"
    }
   ],
   "source": [
    "days_inp.max()"
   ]
  },
  {
   "cell_type": "code",
   "execution_count": 21,
   "id": "6124ac95",
   "metadata": {},
   "outputs": [
    {
     "data": {
      "text/plain": [
       "-4.843317859684072"
      ]
     },
     "execution_count": 21,
     "metadata": {},
     "output_type": "execute_result"
    }
   ],
   "source": [
    "days_inp.min()"
   ]
  },
  {
   "cell_type": "code",
   "execution_count": 22,
   "id": "e6402d64",
   "metadata": {},
   "outputs": [
    {
     "data": {
      "text/plain": [
       "array([ 3.63565267,  5.94676456,  4.56657567,  8.86552162,  8.55545676,\n",
       "        2.7144402 ,  5.19226791,  5.67740742,  6.03846875,  5.08484444,\n",
       "        9.07857904,  3.04364378,  6.98405465,  4.17450685,  5.39593773,\n",
       "        3.65312487, 10.82238189,  4.70569927,  7.86473224,  4.07748759,\n",
       "        6.91774309,  0.54811719,  6.90613505,  7.56857671,  1.27100975,\n",
       "        3.38549549,  2.57883296, 10.33273154,  4.93280657,  4.02460901,\n",
       "        3.8234396 ,  4.23754992,  6.07553596,  4.78134123,  1.96271792,\n",
       "        6.417277  ,  4.02093579,  5.89766323, 11.28787627,  6.2162635 ,\n",
       "        8.64396019,  3.87025556,  3.4543513 ,  7.97743382,  5.47287432,\n",
       "       10.3105602 ,  5.259857  ,  7.0443408 ,  7.76865888, 10.43290006,\n",
       "        8.43697296,  4.44676859,  9.98742675,  7.44052223,  4.2588282 ,\n",
       "        7.50382192,  6.71555085,  8.24586549,  9.31862745,  1.90661731,\n",
       "       10.48855983,  5.18924582,  5.38889599,  6.33973344,  5.51262299,\n",
       "        2.32833047,  2.31867187,  5.59384003,  6.16657588,  9.74442614,\n",
       "        4.84494117,  4.55992008,  7.62707632,  5.52155897,  1.24565748,\n",
       "        0.95839152,  7.00021556,  8.18598738,  6.39533578,  5.46669713,\n",
       "        5.30458344,  5.91216002,  2.09992095,  1.45799702,  4.56543437,\n",
       "        3.68782668,  2.05701478,  2.55152345,  3.40526194,  3.29703122,\n",
       "        3.81319439,  5.26843117,  7.93537836,  6.57867502,  2.04612622,\n",
       "        4.71802491,  7.18165826,  3.37134448,  5.60266171,  9.66150332,\n",
       "        6.75493808,  5.15037275,  4.04974064,  0.51455174,  3.08387459,\n",
       "        6.28816562,  8.81183663,  7.02062809,  8.05715416,  8.38818519,\n",
       "        4.99821862,  7.07701173,  6.71367367,  4.92470549,  2.13655277,\n",
       "        5.07629561,  8.95795725,  9.63107896,  0.73050123,  3.49717928,\n",
       "        7.5791063 ,  3.24581026,  9.89041118,  9.9108301 ,  6.95444853,\n",
       "        8.21508831,  5.67085983,  3.77230507,  9.8061625 ,  1.31769042,\n",
       "        5.93627318,  2.68681664,  8.53789454,  5.71184419,  9.98885769,\n",
       "        9.14064523,  8.15593027,  6.75949071,  2.15948164,  0.02926058,\n",
       "        6.21909909,  6.09835715,  3.70161671,  7.23910556,  7.27929742,\n",
       "        4.50184365, 10.15693427,  8.4973271 ,  3.6891725 ,  3.77576539,\n",
       "        3.35646383,  6.43751978,  3.52741633,  1.14914021,  4.34257076,\n",
       "        7.91936175,  6.13351866,  5.90075147,  4.95986841,  0.92006269,\n",
       "        7.02840234, 10.57591327,  7.89053863,  9.10212826,  4.47034502,\n",
       "        3.38605989, 10.28252788,  8.085309  ,  5.38801578, 11.10335196,\n",
       "        3.08228177,  8.09606191,  4.62898868,  4.92513371,  2.78011531,\n",
       "        5.32733899,  8.67009507,  4.09839787,  3.94971668,  2.8554452 ,\n",
       "        5.2932548 , 11.2851253 ,  2.93375368,  7.59246996,  9.42757533,\n",
       "        4.51254327,  3.42521245,  4.90809904,  7.06195942,  2.47755686,\n",
       "        4.76211521,  9.1464577 ,  3.41181588,  7.46235294,  9.16632082,\n",
       "        6.28327461,  6.92114081, 11.30389143,  5.72338369,  6.15134005,\n",
       "        7.69235928,  2.75359334,  7.56628179,  8.27256568, 10.06301097,\n",
       "        5.57305651,  5.38494277,  6.46897661,  4.84083168,  3.0003037 ,\n",
       "       11.76211952,  2.64850307, 12.04736188,  2.81476524,  4.48035182,\n",
       "        4.0633971 , 11.06292718,  4.17281216,  2.83854405,  6.67190195,\n",
       "        4.81664974,  6.52621409,  5.32342768,  9.7126924 ,  5.96626787,\n",
       "        2.43596743,  4.72180713,  3.48001515,  1.66753098,  2.0870173 ,\n",
       "        2.54346616,  6.59212165,  4.20165637, 12.53330247,  6.66817053,\n",
       "        5.00440062,  6.67946448,  1.25434752,  6.13100392,  8.067776  ,\n",
       "        4.24491116,  5.86371691, 12.33433751,  8.5908702 ,  0.29793881,\n",
       "        8.46213519,  4.02787696,  0.02992276,  3.40147636, 11.28136662,\n",
       "        3.62252161,  5.96589762,  4.44700187,  9.78137711,  5.21201483,\n",
       "        8.86070595,  5.1077565 ,  4.4584147 ,  7.63965998,  4.85755261,\n",
       "        9.4975285 ,  8.36805667,  6.20550609,  4.44135814,  6.66390359,\n",
       "        4.65662509,  3.26513809,  0.5616013 ,  5.70747254,  1.2493861 ,\n",
       "        7.81439654,  4.50346457,  7.58229926,  0.97673873,  6.33469026,\n",
       "        3.28879689,  2.08589874,  0.81322094,  7.34735558,  4.70318991,\n",
       "        4.80498808,  3.28288646,  0.5236413 ,  3.63410942,  9.36531665,\n",
       "        9.08143233,  0.28314583,  2.02496975,  5.80155663,  1.3998447 ,\n",
       "        6.96231083,  4.18174163,  7.68702972,  0.98567772,  5.57929788,\n",
       "        7.05366399,  2.88316402,  5.50445024,  2.11220552,  6.68781305,\n",
       "        9.17448301,  1.90364958,  7.0788553 ,  6.07325888,  9.45653265,\n",
       "        5.79512444,  0.32132191, 10.23046395,  5.55568357,  8.02294729,\n",
       "        1.69559246,  4.91733134,  1.25019051, 10.80352434,  5.29864662,\n",
       "        5.65577375,  1.74561912,  4.89323837,  4.76088436,  5.50514885,\n",
       "        2.87099136,  4.10187251, 10.13968913,  6.12020297,  3.65214248,\n",
       "        3.20427056,  8.2942646 ,  4.5859468 ,  2.92442234,  8.13361257,\n",
       "        9.50372063,  8.11111884,  9.15242618,  8.55360747,  6.24370744,\n",
       "        7.45978347,  5.38413951,  3.96665391,  8.71914017,  6.89309929,\n",
       "        2.10842943,  7.7945874 ,  8.52633501,  7.17138502,  4.33403929,\n",
       "        8.7925557 ,  4.91021935,  2.46607428,  6.11266953,  5.70308284,\n",
       "        5.16514935,  1.67175207,  0.05162402,  6.55436962,  8.27572685,\n",
       "        4.72829834,  3.7817107 ,  3.78001338,  2.25253839,  1.68168428,\n",
       "        5.47945835, 10.71259415,  5.84032026,  3.5468234 ,  8.37722254,\n",
       "        7.59761276,  7.09941244,  3.56223667,  4.79038867,  9.01316844,\n",
       "        5.93539169,  5.79250204,  8.56416197,  6.91654656,  6.65214959,\n",
       "        3.20388354,  4.4380139 ,  4.35475602,  6.69865395,  7.65653302,\n",
       "        4.64249301,  3.90039987,  9.23149554,  3.31144643,  5.25393502,\n",
       "        2.52843331,  7.22252888,  8.66145099,  6.00258556,  7.09247989,\n",
       "        5.18288685,  6.65989361,  6.41106364,  8.33454346,  5.89718928,\n",
       "        8.45736161,  3.8041613 ,  6.56996662,  1.55357363,  0.81034094,\n",
       "       10.28167101,  3.06075451,  7.41883255,  1.58239315,  5.4752621 ,\n",
       "       10.10328865,  3.80758934,  4.3965571 ,  5.59625489, 10.41358855,\n",
       "        6.80011489,  2.22724648,  6.87566081, 10.18319196,  6.99191706,\n",
       "        3.32333822,  8.06736942,  9.09519578,  9.94437328,  6.44200777,\n",
       "        4.8051648 ,  2.08960053,  4.70206537,  3.36494797,  3.53691631,\n",
       "        8.5541328 ,  9.12225361,  1.63771827,  6.32423514,  8.64131455,\n",
       "        2.75239645,  6.21487305,  7.19478144,  3.80325868,  4.38531141,\n",
       "        4.08723457,  4.06967957,  0.09026268,  4.98885807,  6.01231945,\n",
       "        9.14824893,  5.96318268,  2.65760798,  4.54710316,  3.51705918,\n",
       "        8.52080976,  8.23103622,  3.73434177,  3.73361934,  4.12624986,\n",
       "        4.28638861,  6.57332741,  9.83896445,  4.56772826,  6.61085297,\n",
       "        6.21287939,  4.90449648,  4.61831831,  7.32898   ,  5.72181204,\n",
       "        7.09256961,  3.90582905,  6.8994676 , 10.10894695,  4.24989282,\n",
       "        3.81751445,  4.65337556,  8.16021026,  3.73870725,  8.00695958,\n",
       "        7.07411172,  9.58200586,  4.59915122, 10.96977894,  2.21147092,\n",
       "       10.00229525,  7.16357716,  2.20807761])"
      ]
     },
     "execution_count": 22,
     "metadata": {},
     "output_type": "execute_result"
    }
   ],
   "source": [
    "days_inp_cld = days_inp[days_inp>0] \n",
    "#days_inp.drop(days_inp< 0)\n",
    "#days_inp\n",
    "days_inp_cld"
   ]
  },
  {
   "cell_type": "code",
   "execution_count": 23,
   "id": "53d43bea",
   "metadata": {},
   "outputs": [
    {
     "data": {
      "image/png": "[encoded data removed]",
      "text/plain": [
       "<Figure size 500x500 with 1 Axes>"
      ]
     },
     "metadata": {},
     "output_type": "display_data"
    }
   ],
   "source": [
    "sns.displot(x=days_inp_cld, kind = \"kde\") \n",
    "plt.show()"
   ]
  },
  {
   "cell_type": "code",
   "execution_count": 24,
   "id": "b490c204",
   "metadata": {},
   "outputs": [
    {
     "data": {
      "text/plain": [
       "(2.417936040144346, 0.015608820164859606)"
      ]
     },
     "execution_count": 24,
     "metadata": {},
     "output_type": "execute_result"
    }
   ],
   "source": [
    "zscore, p_value = ztest(days_inp_cld, value=5.4)\n",
    "zscore, p_value"
   ]
  },
  {
   "cell_type": "markdown",
   "id": "239a60f3",
   "metadata": {},
   "source": [
    "Construct a 95% confidence interval for the mean length of stay for the population of patients from which the sample was drawn."
   ]
  },
  {
   "cell_type": "code",
   "execution_count": 25,
   "id": "f69a3680",
   "metadata": {},
   "outputs": [
    {
     "data": {
      "text/plain": [
       "0.13863621460498696"
      ]
     },
     "execution_count": 25,
     "metadata": {},
     "output_type": "execute_result"
    }
   ],
   "source": [
    "sem_inp = 3.1 / np.sqrt(500)\n",
    "sem_inp"
   ]
  },
  {
   "cell_type": "code",
   "execution_count": 26,
   "id": "b909b327",
   "metadata": {},
   "outputs": [
    {
     "data": {
      "text/plain": [
       "(5.12827801242126, 5.67172198757874)"
      ]
     },
     "execution_count": 26,
     "metadata": {},
     "output_type": "execute_result"
    }
   ],
   "source": [
    "ci_z_inp = stats.norm.interval(0.95, 5.4,sem_inp)\n",
    "ci_z_inp"
   ]
  },
  {
   "cell_type": "markdown",
   "id": "1d2f2979",
   "metadata": {},
   "source": [
    "HYPOTHESIS TESTING\n",
    "\n"
   ]
  },
  {
   "cell_type": "markdown",
   "id": "65e8cb3c",
   "metadata": {},
   "source": [
    "EXERCISE 3. The hourly wages in a particular industry are normally distributed with mean $13.20 and standard deviation $2.50. A company in this industry employs 40 workers, paying them an average of $12.20 per hour. Can this company be accused of paying substandard wages? Use an α = .01 level test. (Wackerly, Ex.10.18)"
   ]
  },
  {
   "cell_type": "markdown",
   "id": "f0b4fd40",
   "metadata": {},
   "source": [
    "CHECK: statistic: -2.5298221281347035, pvalue= 0.005706018193000826"
   ]
  },
  {
   "cell_type": "code",
   "execution_count": 27,
   "id": "1f255b9c",
   "metadata": {},
   "outputs": [],
   "source": [
    "H0: mu = 12.50\n",
    "H1: mu != 12.50"
   ]
  },
  {
   "cell_type": "code",
   "execution_count": 28,
   "id": "6b62a006",
   "metadata": {},
   "outputs": [
    {
     "data": {
      "text/plain": [
       "array([12.42418476, 11.88764578, 13.39812715, 17.61704764, 10.56438997,\n",
       "       12.49296498, 11.17982661, 12.46616374, 12.934821  , 14.05912755,\n",
       "       14.69951594, 10.30432357, 11.51992513, 13.47259909, 12.4468435 ,\n",
       "       14.08669848, 11.07694457, 15.78336241, 10.82243682, 14.31077279,\n",
       "       13.9239118 , 12.62197568, 18.56419739, 11.349871  , 12.92285685,\n",
       "       10.1760154 , 16.4518426 , 12.00496062, 15.61485193, 16.26165632,\n",
       "       11.58128415, 11.32735932, 17.43190238, 15.379556  , 16.30787836,\n",
       "       11.05470049, 17.97021824, 13.8096477 , 11.95953166, 12.49231226])"
      ]
     },
     "execution_count": 28,
     "metadata": {},
     "output_type": "execute_result"
    }
   ],
   "source": [
    "hourly_wages = [] \n",
    "mu2 = 13.20\n",
    "sigma2 =2.50\n",
    "  \n",
    "# using the gauss() method\n",
    "# store the random numbers in a  \n",
    "# list \n",
    "    \n",
    "for i in range(40): \n",
    "    wages = np.random.normal(mu2, sigma2)\n",
    "    \n",
    "    hourly_wages.append(wages) \n",
    "hourly_wages= np.array(hourly_wages)\n",
    "hourly_wages"
   ]
  },
  {
   "cell_type": "code",
   "execution_count": 29,
   "id": "8e3befa7",
   "metadata": {},
   "outputs": [
    {
     "data": {
      "image/png": "[encoded data removed]",
      "text/plain": [
       "<Figure size 500x500 with 1 Axes>"
      ]
     },
     "metadata": {},
     "output_type": "display_data"
    }
   ],
   "source": [
    "sns.displot(x=hourly_wages, kind = \"kde\") \n",
    "plt.show()"
   ]
  },
  {
   "cell_type": "code",
   "execution_count": 30,
   "id": "8cf34bd2",
   "metadata": {},
   "outputs": [],
   "source": [
    "alpha1 = 0.01"
   ]
  },
  {
   "cell_type": "code",
   "execution_count": 31,
   "id": "284bf1a6",
   "metadata": {},
   "outputs": [],
   "source": [
    "zcore =-2.5298221281347035"
   ]
  },
  {
   "cell_type": "code",
   "execution_count": 32,
   "id": "415df34c",
   "metadata": {},
   "outputs": [],
   "source": [
    "pvalue= 0.005706018193000826"
   ]
  },
  {
   "cell_type": "code",
   "execution_count": 33,
   "id": "0cf0797d",
   "metadata": {},
   "outputs": [
    {
     "name": "stdout",
     "output_type": "stream",
     "text": [
      "At 0.01 level of significance, we fail to reject the null hypothesis. We don't have strong evidence to reject the null hypothesis. \n"
     ]
    }
   ],
   "source": [
    "if p_value< alpha:\n",
    "    print('At {} level of significance, we can reject the null hypothesis in favor of alternative hypothesis. This company be accused of paying substandard wages.'.format(alpha1))\n",
    "else:\n",
    "    print(\"At {} level of significance, we fail to reject the null hypothesis. We don't have strong evidence to reject the null hypothesis. \".format(alpha1))"
   ]
  },
  {
   "cell_type": "markdown",
   "id": "4d626b3f",
   "metadata": {},
   "source": [
    "EXERCISE 4.Shear strength measurements derived from unconfined compression tests for two types of soils gave the results shown in the following document (measurements in tons per square foot). Do the soils appear to differ with respect to average shear strength, at the 1% significance level?"
   ]
  },
  {
   "cell_type": "code",
   "execution_count": 34,
   "id": "7ed79db3",
   "metadata": {},
   "outputs": [
    {
     "data": {
      "text/html": [
       "<div>\n",
       "<style scoped>\n",
       "    .dataframe tbody tr th:only-of-type {\n",
       "        vertical-align: middle;\n",
       "    }\n",
       "\n",
       "    .dataframe tbody tr th {\n",
       "        vertical-align: top;\n",
       "    }\n",
       "\n",
       "    .dataframe thead th {\n",
       "        text-align: right;\n",
       "    }\n",
       "</style>\n",
       "<table border=\"1\" class=\"dataframe\">\n",
       "  <thead>\n",
       "    <tr style=\"text-align: right;\">\n",
       "      <th></th>\n",
       "      <th>Soil1</th>\n",
       "      <th>Soil2</th>\n",
       "    </tr>\n",
       "  </thead>\n",
       "  <tbody>\n",
       "    <tr>\n",
       "      <th>0</th>\n",
       "      <td>1.442</td>\n",
       "      <td>1.364</td>\n",
       "    </tr>\n",
       "    <tr>\n",
       "      <th>1</th>\n",
       "      <td>1.943</td>\n",
       "      <td>1.878</td>\n",
       "    </tr>\n",
       "    <tr>\n",
       "      <th>2</th>\n",
       "      <td>1.110</td>\n",
       "      <td>1.337</td>\n",
       "    </tr>\n",
       "    <tr>\n",
       "      <th>3</th>\n",
       "      <td>1.912</td>\n",
       "      <td>1.828</td>\n",
       "    </tr>\n",
       "    <tr>\n",
       "      <th>4</th>\n",
       "      <td>1.553</td>\n",
       "      <td>1.371</td>\n",
       "    </tr>\n",
       "    <tr>\n",
       "      <th>5</th>\n",
       "      <td>1.641</td>\n",
       "      <td>1.428</td>\n",
       "    </tr>\n",
       "    <tr>\n",
       "      <th>6</th>\n",
       "      <td>1.499</td>\n",
       "      <td>1.119</td>\n",
       "    </tr>\n",
       "    <tr>\n",
       "      <th>7</th>\n",
       "      <td>1.347</td>\n",
       "      <td>1.373</td>\n",
       "    </tr>\n",
       "    <tr>\n",
       "      <th>8</th>\n",
       "      <td>1.685</td>\n",
       "      <td>1.589</td>\n",
       "    </tr>\n",
       "    <tr>\n",
       "      <th>9</th>\n",
       "      <td>1.578</td>\n",
       "      <td>1.714</td>\n",
       "    </tr>\n",
       "    <tr>\n",
       "      <th>10</th>\n",
       "      <td>1.866</td>\n",
       "      <td>1.260</td>\n",
       "    </tr>\n",
       "    <tr>\n",
       "      <th>11</th>\n",
       "      <td>1.653</td>\n",
       "      <td>1.492</td>\n",
       "    </tr>\n",
       "    <tr>\n",
       "      <th>12</th>\n",
       "      <td>1.665</td>\n",
       "      <td>1.395</td>\n",
       "    </tr>\n",
       "    <tr>\n",
       "      <th>13</th>\n",
       "      <td>1.640</td>\n",
       "      <td>1.778</td>\n",
       "    </tr>\n",
       "    <tr>\n",
       "      <th>14</th>\n",
       "      <td>1.976</td>\n",
       "      <td>1.611</td>\n",
       "    </tr>\n",
       "    <tr>\n",
       "      <th>15</th>\n",
       "      <td>1.754</td>\n",
       "      <td>1.202</td>\n",
       "    </tr>\n",
       "    <tr>\n",
       "      <th>16</th>\n",
       "      <td>1.589</td>\n",
       "      <td>1.542</td>\n",
       "    </tr>\n",
       "    <tr>\n",
       "      <th>17</th>\n",
       "      <td>1.976</td>\n",
       "      <td>1.094</td>\n",
       "    </tr>\n",
       "    <tr>\n",
       "      <th>18</th>\n",
       "      <td>1.863</td>\n",
       "      <td>1.557</td>\n",
       "    </tr>\n",
       "    <tr>\n",
       "      <th>19</th>\n",
       "      <td>1.932</td>\n",
       "      <td>1.053</td>\n",
       "    </tr>\n",
       "    <tr>\n",
       "      <th>20</th>\n",
       "      <td>1.570</td>\n",
       "      <td>1.183</td>\n",
       "    </tr>\n",
       "    <tr>\n",
       "      <th>21</th>\n",
       "      <td>1.613</td>\n",
       "      <td>1.367</td>\n",
       "    </tr>\n",
       "    <tr>\n",
       "      <th>22</th>\n",
       "      <td>2.054</td>\n",
       "      <td>1.144</td>\n",
       "    </tr>\n",
       "    <tr>\n",
       "      <th>23</th>\n",
       "      <td>1.550</td>\n",
       "      <td>1.151</td>\n",
       "    </tr>\n",
       "    <tr>\n",
       "      <th>24</th>\n",
       "      <td>1.714</td>\n",
       "      <td>1.561</td>\n",
       "    </tr>\n",
       "    <tr>\n",
       "      <th>25</th>\n",
       "      <td>1.896</td>\n",
       "      <td>1.192</td>\n",
       "    </tr>\n",
       "    <tr>\n",
       "      <th>26</th>\n",
       "      <td>1.737</td>\n",
       "      <td>1.489</td>\n",
       "    </tr>\n",
       "    <tr>\n",
       "      <th>27</th>\n",
       "      <td>1.740</td>\n",
       "      <td>1.379</td>\n",
       "    </tr>\n",
       "    <tr>\n",
       "      <th>28</th>\n",
       "      <td>1.708</td>\n",
       "      <td>1.501</td>\n",
       "    </tr>\n",
       "    <tr>\n",
       "      <th>29</th>\n",
       "      <td>1.548</td>\n",
       "      <td>1.277</td>\n",
       "    </tr>\n",
       "    <tr>\n",
       "      <th>30</th>\n",
       "      <td>NaN</td>\n",
       "      <td>1.593</td>\n",
       "    </tr>\n",
       "    <tr>\n",
       "      <th>31</th>\n",
       "      <td>NaN</td>\n",
       "      <td>1.172</td>\n",
       "    </tr>\n",
       "    <tr>\n",
       "      <th>32</th>\n",
       "      <td>NaN</td>\n",
       "      <td>1.510</td>\n",
       "    </tr>\n",
       "    <tr>\n",
       "      <th>33</th>\n",
       "      <td>NaN</td>\n",
       "      <td>1.740</td>\n",
       "    </tr>\n",
       "    <tr>\n",
       "      <th>34</th>\n",
       "      <td>NaN</td>\n",
       "      <td>1.355</td>\n",
       "    </tr>\n",
       "  </tbody>\n",
       "</table>\n",
       "</div>"
      ],
      "text/plain": [
       "    Soil1  Soil2\n",
       "0   1.442  1.364\n",
       "1   1.943  1.878\n",
       "2   1.110  1.337\n",
       "3   1.912  1.828\n",
       "4   1.553  1.371\n",
       "5   1.641  1.428\n",
       "6   1.499  1.119\n",
       "7   1.347  1.373\n",
       "8   1.685  1.589\n",
       "9   1.578  1.714\n",
       "10  1.866  1.260\n",
       "11  1.653  1.492\n",
       "12  1.665  1.395\n",
       "13  1.640  1.778\n",
       "14  1.976  1.611\n",
       "15  1.754  1.202\n",
       "16  1.589  1.542\n",
       "17  1.976  1.094\n",
       "18  1.863  1.557\n",
       "19  1.932  1.053\n",
       "20  1.570  1.183\n",
       "21  1.613  1.367\n",
       "22  2.054  1.144\n",
       "23  1.550  1.151\n",
       "24  1.714  1.561\n",
       "25  1.896  1.192\n",
       "26  1.737  1.489\n",
       "27  1.740  1.379\n",
       "28  1.708  1.501\n",
       "29  1.548  1.277\n",
       "30    NaN  1.593\n",
       "31    NaN  1.172\n",
       "32    NaN  1.510\n",
       "33    NaN  1.740\n",
       "34    NaN  1.355"
      ]
     },
     "execution_count": 34,
     "metadata": {},
     "output_type": "execute_result"
    }
   ],
   "source": [
    "df= pd.read_csv(\"soil - Sheet1.csv\")\n",
    "df"
   ]
  },
  {
   "cell_type": "code",
   "execution_count": 35,
   "id": "0760b383",
   "metadata": {},
   "outputs": [],
   "source": [
    "df.dropna(inplace= True)"
   ]
  },
  {
   "cell_type": "code",
   "execution_count": 36,
   "id": "ed2ede49",
   "metadata": {},
   "outputs": [
    {
     "data": {
      "text/plain": [
       "(30, 2)"
      ]
     },
     "execution_count": 36,
     "metadata": {},
     "output_type": "execute_result"
    }
   ],
   "source": [
    "df.shape"
   ]
  },
  {
   "cell_type": "code",
   "execution_count": 37,
   "id": "a3db9a55",
   "metadata": {},
   "outputs": [
    {
     "data": {
      "text/plain": [
       "LeveneResult(statistic=0.2323198108973329, pvalue=0.631622932753579)"
      ]
     },
     "execution_count": 37,
     "metadata": {},
     "output_type": "execute_result"
    }
   ],
   "source": [
    "#Perform Levene test for equal variances\n",
    "#H0: The population variances are equal\n",
    "#H1: There is a difference between the variances in the population\n",
    "#The small p-value suggests that the populations do not have equal variances.\n",
    "leveneTest = stats.levene(df.Soil1, df.Soil2)\n",
    "leveneTest"
   ]
  },
  {
   "cell_type": "markdown",
   "id": "42b1b142",
   "metadata": {},
   "source": [
    "Results for two type of soils"
   ]
  },
  {
   "cell_type": "code",
   "execution_count": 38,
   "id": "476d3e54",
   "metadata": {},
   "outputs": [
    {
     "data": {
      "text/plain": [
       "1.6918000000000002"
      ]
     },
     "execution_count": 38,
     "metadata": {},
     "output_type": "execute_result"
    }
   ],
   "source": [
    "# Calculate the mean of Soil1\n",
    "mu_s1 = df.Soil1.mean()\n",
    "mu_s1"
   ]
  },
  {
   "cell_type": "code",
   "execution_count": 39,
   "id": "bf01c3de",
   "metadata": {},
   "outputs": [
    {
     "data": {
      "image/png": "[encoded data removed]",
      "text/plain": [
       "<Figure size 500x500 with 1 Axes>"
      ]
     },
     "metadata": {},
     "output_type": "display_data"
    }
   ],
   "source": [
    "sns.displot(x= df.Soil1, kind = \"kde\");"
   ]
  },
  {
   "cell_type": "code",
   "execution_count": 40,
   "id": "d1fd547a",
   "metadata": {},
   "outputs": [
    {
     "data": {
      "text/plain": [
       "1.407633333333333"
      ]
     },
     "execution_count": 40,
     "metadata": {},
     "output_type": "execute_result"
    }
   ],
   "source": [
    "# Calculate the mean of Soil2\n",
    "mu_s2= df.Soil2.mean()\n",
    "mu_s2"
   ]
  },
  {
   "cell_type": "code",
   "execution_count": 41,
   "id": "6f62aaa6",
   "metadata": {},
   "outputs": [
    {
     "data": {
      "image/png": "[encoded data removed]",
      "text/plain": [
       "<Figure size 500x500 with 1 Axes>"
      ]
     },
     "metadata": {},
     "output_type": "display_data"
    }
   ],
   "source": [
    "sns.displot(x=df.Soil2, kind = \"kde\");"
   ]
  },
  {
   "cell_type": "code",
   "execution_count": 42,
   "id": "a7212fff",
   "metadata": {},
   "outputs": [],
   "source": [
    "H0: mu_s1 = mu_s2\n",
    "H1: mu_s1 != mu_s2"
   ]
  },
  {
   "cell_type": "code",
   "execution_count": 43,
   "id": "bc426cad",
   "metadata": {},
   "outputs": [],
   "source": [
    "alpha_soil = 0.01"
   ]
  },
  {
   "cell_type": "markdown",
   "id": "708c05fa",
   "metadata": {},
   "source": [
    "CHECK: statistic: 5.1681473319343345, pvalue= 2.593228732352821e-06\n",
    "________________________________________\n"
   ]
  },
  {
   "cell_type": "code",
   "execution_count": null,
   "id": "7e736ed0",
   "metadata": {},
   "outputs": [],
   "source": [
    "indTest_statistic = 5.1681473319343345"
   ]
  },
  {
   "cell_type": "code",
   "execution_count": null,
   "id": "32da25ff",
   "metadata": {},
   "outputs": [],
   "source": [
    " indTest_statistic_pvalue= 2.593228732352821e-06"
   ]
  },
  {
   "cell_type": "code",
   "execution_count": 73,
   "id": "7479b943",
   "metadata": {},
   "outputs": [
    {
     "name": "stdout",
     "output_type": "stream",
     "text": [
      "At 0.01 level of significance, we fail to reject the null hypothesis. We don't have strong evidence to reject the null hypothesis. \n"
     ]
    }
   ],
   "source": [
    "if indTest_statistic_pvalue < alpha:\n",
    "    print(\"At {} level of significance, we can reject the null hypothesis in favor of alternative hypothesis.This suggests that the populations do not have equal variances.\".format(alpha_soil))\n",
    "else:\n",
    "    print(\"At {} level of significance, we fail to reject the null hypothesis. We don't have strong evidence to reject the null hypothesis. \".format(alpha_soil))"
   ]
  },
  {
   "cell_type": "markdown",
   "id": "2a13b765",
   "metadata": {},
   "source": [
    "EXERCISE 5. The following dataset is based on data provided by the World Bank (https://datacatalog.worldbank.org/dataset/education-statistics). World Bank Edstats."
   ]
  },
  {
   "cell_type": "markdown",
   "id": "f5a801c1",
   "metadata": {},
   "source": [
    "2015 PISA Test Dataset"
   ]
  },
  {
   "cell_type": "code",
   "execution_count": 47,
   "id": "c48a2597",
   "metadata": {},
   "outputs": [
    {
     "data": {
      "text/html": [
       "<div>\n",
       "<style scoped>\n",
       "    .dataframe tbody tr th:only-of-type {\n",
       "        vertical-align: middle;\n",
       "    }\n",
       "\n",
       "    .dataframe tbody tr th {\n",
       "        vertical-align: top;\n",
       "    }\n",
       "\n",
       "    .dataframe thead th {\n",
       "        text-align: right;\n",
       "    }\n",
       "</style>\n",
       "<table border=\"1\" class=\"dataframe\">\n",
       "  <thead>\n",
       "    <tr style=\"text-align: right;\">\n",
       "      <th></th>\n",
       "      <th>Country Code</th>\n",
       "      <th>Continent_Code</th>\n",
       "      <th>internet_users_per_100</th>\n",
       "      <th>Math</th>\n",
       "      <th>Reading</th>\n",
       "      <th>Science</th>\n",
       "    </tr>\n",
       "  </thead>\n",
       "  <tbody>\n",
       "    <tr>\n",
       "      <th>0</th>\n",
       "      <td>ALB</td>\n",
       "      <td>EU</td>\n",
       "      <td>63.252933</td>\n",
       "      <td>413.1570</td>\n",
       "      <td>405.2588</td>\n",
       "      <td>427.2250</td>\n",
       "    </tr>\n",
       "    <tr>\n",
       "      <th>1</th>\n",
       "      <td>ARE</td>\n",
       "      <td>AS</td>\n",
       "      <td>90.500000</td>\n",
       "      <td>427.4827</td>\n",
       "      <td>433.5423</td>\n",
       "      <td>436.7311</td>\n",
       "    </tr>\n",
       "    <tr>\n",
       "      <th>2</th>\n",
       "      <td>ARG</td>\n",
       "      <td>SA</td>\n",
       "      <td>68.043064</td>\n",
       "      <td>409.0333</td>\n",
       "      <td>425.3031</td>\n",
       "      <td>432.2262</td>\n",
       "    </tr>\n",
       "    <tr>\n",
       "      <th>3</th>\n",
       "      <td>AUS</td>\n",
       "      <td>OC</td>\n",
       "      <td>84.560519</td>\n",
       "      <td>493.8962</td>\n",
       "      <td>502.9006</td>\n",
       "      <td>509.9939</td>\n",
       "    </tr>\n",
       "    <tr>\n",
       "      <th>4</th>\n",
       "      <td>AUT</td>\n",
       "      <td>EU</td>\n",
       "      <td>83.940142</td>\n",
       "      <td>496.7423</td>\n",
       "      <td>484.8656</td>\n",
       "      <td>495.0375</td>\n",
       "    </tr>\n",
       "    <tr>\n",
       "      <th>...</th>\n",
       "      <td>...</td>\n",
       "      <td>...</td>\n",
       "      <td>...</td>\n",
       "      <td>...</td>\n",
       "      <td>...</td>\n",
       "      <td>...</td>\n",
       "    </tr>\n",
       "    <tr>\n",
       "      <th>65</th>\n",
       "      <td>TUN</td>\n",
       "      <td>AF</td>\n",
       "      <td>48.519836</td>\n",
       "      <td>366.8180</td>\n",
       "      <td>361.0555</td>\n",
       "      <td>386.4034</td>\n",
       "    </tr>\n",
       "    <tr>\n",
       "      <th>66</th>\n",
       "      <td>TUR</td>\n",
       "      <td>EU</td>\n",
       "      <td>53.744979</td>\n",
       "      <td>420.4540</td>\n",
       "      <td>428.3351</td>\n",
       "      <td>425.4895</td>\n",
       "    </tr>\n",
       "    <tr>\n",
       "      <th>67</th>\n",
       "      <td>URY</td>\n",
       "      <td>SA</td>\n",
       "      <td>64.600000</td>\n",
       "      <td>417.9919</td>\n",
       "      <td>436.5721</td>\n",
       "      <td>435.3630</td>\n",
       "    </tr>\n",
       "    <tr>\n",
       "      <th>68</th>\n",
       "      <td>USA</td>\n",
       "      <td>NaN</td>\n",
       "      <td>74.554202</td>\n",
       "      <td>469.6285</td>\n",
       "      <td>496.9351</td>\n",
       "      <td>496.2424</td>\n",
       "    </tr>\n",
       "    <tr>\n",
       "      <th>69</th>\n",
       "      <td>VNM</td>\n",
       "      <td>AS</td>\n",
       "      <td>43.500000</td>\n",
       "      <td>494.5183</td>\n",
       "      <td>486.7738</td>\n",
       "      <td>524.6445</td>\n",
       "    </tr>\n",
       "  </tbody>\n",
       "</table>\n",
       "<p>70 rows × 6 columns</p>\n",
       "</div>"
      ],
      "text/plain": [
       "   Country Code Continent_Code  internet_users_per_100      Math   Reading  \\\n",
       "0           ALB             EU               63.252933  413.1570  405.2588   \n",
       "1           ARE             AS               90.500000  427.4827  433.5423   \n",
       "2           ARG             SA               68.043064  409.0333  425.3031   \n",
       "3           AUS             OC               84.560519  493.8962  502.9006   \n",
       "4           AUT             EU               83.940142  496.7423  484.8656   \n",
       "..          ...            ...                     ...       ...       ...   \n",
       "65          TUN             AF               48.519836  366.8180  361.0555   \n",
       "66          TUR             EU               53.744979  420.4540  428.3351   \n",
       "67          URY             SA               64.600000  417.9919  436.5721   \n",
       "68          USA            NaN               74.554202  469.6285  496.9351   \n",
       "69          VNM             AS               43.500000  494.5183  486.7738   \n",
       "\n",
       "     Science  \n",
       "0   427.2250  \n",
       "1   436.7311  \n",
       "2   432.2262  \n",
       "3   509.9939  \n",
       "4   495.0375  \n",
       "..       ...  \n",
       "65  386.4034  \n",
       "66  425.4895  \n",
       "67  435.3630  \n",
       "68  496.2424  \n",
       "69  524.6445  \n",
       "\n",
       "[70 rows x 6 columns]"
      ]
     },
     "execution_count": 47,
     "metadata": {},
     "output_type": "execute_result"
    }
   ],
   "source": [
    "df1= pd.read_csv(\"2015 PISA Test - Sheet1.csv\")\n",
    "df1"
   ]
  },
  {
   "cell_type": "markdown",
   "id": "bb8c5a65",
   "metadata": {},
   "source": [
    "1.\tGet descriptive statistics (the central tendency, dispersion and shape of a dataset’s distribution) for each continent group (AS, EU, AF, NA, SA, OC).\n",
    "\n"
   ]
  },
  {
   "cell_type": "code",
   "execution_count": 48,
   "id": "74cb5637",
   "metadata": {},
   "outputs": [],
   "source": [
    "df1 = df1.dropna()"
   ]
  },
  {
   "cell_type": "code",
   "execution_count": 49,
   "id": "a31971c5",
   "metadata": {},
   "outputs": [
    {
     "data": {
      "text/plain": [
       "(65, 6)"
      ]
     },
     "execution_count": 49,
     "metadata": {},
     "output_type": "execute_result"
    }
   ],
   "source": [
    "df1.shape"
   ]
  },
  {
   "cell_type": "code",
   "execution_count": 50,
   "id": "d42e78ca",
   "metadata": {},
   "outputs": [
    {
     "data": {
      "text/html": [
       "<div>\n",
       "<style scoped>\n",
       "    .dataframe tbody tr th:only-of-type {\n",
       "        vertical-align: middle;\n",
       "    }\n",
       "\n",
       "    .dataframe tbody tr th {\n",
       "        vertical-align: top;\n",
       "    }\n",
       "\n",
       "    .dataframe thead th {\n",
       "        text-align: right;\n",
       "    }\n",
       "</style>\n",
       "<table border=\"1\" class=\"dataframe\">\n",
       "  <thead>\n",
       "    <tr style=\"text-align: right;\">\n",
       "      <th></th>\n",
       "      <th>internet_users_per_100</th>\n",
       "      <th>Math</th>\n",
       "      <th>Reading</th>\n",
       "      <th>Science</th>\n",
       "    </tr>\n",
       "  </thead>\n",
       "  <tbody>\n",
       "    <tr>\n",
       "      <th>count</th>\n",
       "      <td>65.000000</td>\n",
       "      <td>65.000000</td>\n",
       "      <td>65.000000</td>\n",
       "      <td>65.000000</td>\n",
       "    </tr>\n",
       "    <tr>\n",
       "      <th>mean</th>\n",
       "      <td>72.364354</td>\n",
       "      <td>463.796218</td>\n",
       "      <td>462.118551</td>\n",
       "      <td>467.535888</td>\n",
       "    </tr>\n",
       "    <tr>\n",
       "      <th>std</th>\n",
       "      <td>16.570118</td>\n",
       "      <td>51.293822</td>\n",
       "      <td>48.443166</td>\n",
       "      <td>45.762751</td>\n",
       "    </tr>\n",
       "    <tr>\n",
       "      <th>min</th>\n",
       "      <td>21.976068</td>\n",
       "      <td>359.606200</td>\n",
       "      <td>346.549000</td>\n",
       "      <td>375.745100</td>\n",
       "    </tr>\n",
       "    <tr>\n",
       "      <th>25%</th>\n",
       "      <td>63.306625</td>\n",
       "      <td>417.991900</td>\n",
       "      <td>427.141000</td>\n",
       "      <td>427.997800</td>\n",
       "    </tr>\n",
       "    <tr>\n",
       "      <th>50%</th>\n",
       "      <td>73.098700</td>\n",
       "      <td>478.644800</td>\n",
       "      <td>481.439100</td>\n",
       "      <td>475.408900</td>\n",
       "    </tr>\n",
       "    <tr>\n",
       "      <th>75%</th>\n",
       "      <td>85.052900</td>\n",
       "      <td>501.729800</td>\n",
       "      <td>499.814600</td>\n",
       "      <td>502.575100</td>\n",
       "    </tr>\n",
       "    <tr>\n",
       "      <th>max</th>\n",
       "      <td>98.200000</td>\n",
       "      <td>564.189700</td>\n",
       "      <td>535.100200</td>\n",
       "      <td>555.574700</td>\n",
       "    </tr>\n",
       "  </tbody>\n",
       "</table>\n",
       "</div>"
      ],
      "text/plain": [
       "       internet_users_per_100        Math     Reading     Science\n",
       "count               65.000000   65.000000   65.000000   65.000000\n",
       "mean                72.364354  463.796218  462.118551  467.535888\n",
       "std                 16.570118   51.293822   48.443166   45.762751\n",
       "min                 21.976068  359.606200  346.549000  375.745100\n",
       "25%                 63.306625  417.991900  427.141000  427.997800\n",
       "50%                 73.098700  478.644800  481.439100  475.408900\n",
       "75%                 85.052900  501.729800  499.814600  502.575100\n",
       "max                 98.200000  564.189700  535.100200  555.574700"
      ]
     },
     "execution_count": 50,
     "metadata": {},
     "output_type": "execute_result"
    }
   ],
   "source": [
    "df1.describe() "
   ]
  },
  {
   "cell_type": "code",
   "execution_count": 51,
   "id": "0f664590",
   "metadata": {},
   "outputs": [
    {
     "data": {
      "text/html": [
       "<div>\n",
       "<style scoped>\n",
       "    .dataframe tbody tr th:only-of-type {\n",
       "        vertical-align: middle;\n",
       "    }\n",
       "\n",
       "    .dataframe tbody tr th {\n",
       "        vertical-align: top;\n",
       "    }\n",
       "\n",
       "    .dataframe thead tr th {\n",
       "        text-align: left;\n",
       "    }\n",
       "\n",
       "    .dataframe thead tr:last-of-type th {\n",
       "        text-align: right;\n",
       "    }\n",
       "</style>\n",
       "<table border=\"1\" class=\"dataframe\">\n",
       "  <thead>\n",
       "    <tr>\n",
       "      <th></th>\n",
       "      <th colspan=\"4\" halign=\"left\">Continent_Code</th>\n",
       "    </tr>\n",
       "    <tr>\n",
       "      <th></th>\n",
       "      <th>count</th>\n",
       "      <th>unique</th>\n",
       "      <th>top</th>\n",
       "      <th>freq</th>\n",
       "    </tr>\n",
       "    <tr>\n",
       "      <th>Continent_Code</th>\n",
       "      <th></th>\n",
       "      <th></th>\n",
       "      <th></th>\n",
       "      <th></th>\n",
       "    </tr>\n",
       "  </thead>\n",
       "  <tbody>\n",
       "    <tr>\n",
       "      <th>AF</th>\n",
       "      <td>2</td>\n",
       "      <td>1</td>\n",
       "      <td>AF</td>\n",
       "      <td>2</td>\n",
       "    </tr>\n",
       "    <tr>\n",
       "      <th>AS</th>\n",
       "      <td>17</td>\n",
       "      <td>1</td>\n",
       "      <td>AS</td>\n",
       "      <td>17</td>\n",
       "    </tr>\n",
       "    <tr>\n",
       "      <th>EU</th>\n",
       "      <td>37</td>\n",
       "      <td>1</td>\n",
       "      <td>EU</td>\n",
       "      <td>37</td>\n",
       "    </tr>\n",
       "    <tr>\n",
       "      <th>OC</th>\n",
       "      <td>2</td>\n",
       "      <td>1</td>\n",
       "      <td>OC</td>\n",
       "      <td>2</td>\n",
       "    </tr>\n",
       "    <tr>\n",
       "      <th>SA</th>\n",
       "      <td>7</td>\n",
       "      <td>1</td>\n",
       "      <td>SA</td>\n",
       "      <td>7</td>\n",
       "    </tr>\n",
       "  </tbody>\n",
       "</table>\n",
       "</div>"
      ],
      "text/plain": [
       "               Continent_Code                \n",
       "                        count unique top freq\n",
       "Continent_Code                               \n",
       "AF                          2      1  AF    2\n",
       "AS                         17      1  AS   17\n",
       "EU                         37      1  EU   37\n",
       "OC                          2      1  OC    2\n",
       "SA                          7      1  SA    7"
      ]
     },
     "execution_count": 51,
     "metadata": {},
     "output_type": "execute_result"
    }
   ],
   "source": [
    "df1.groupby('Continent_Code') [['Continent_Code']].describe()"
   ]
  },
  {
   "cell_type": "code",
   "execution_count": 52,
   "id": "e22b8cad",
   "metadata": {},
   "outputs": [
    {
     "data": {
      "text/html": [
       "<div>\n",
       "<style scoped>\n",
       "    .dataframe tbody tr th:only-of-type {\n",
       "        vertical-align: middle;\n",
       "    }\n",
       "\n",
       "    .dataframe tbody tr th {\n",
       "        vertical-align: top;\n",
       "    }\n",
       "\n",
       "    .dataframe thead th {\n",
       "        text-align: right;\n",
       "    }\n",
       "</style>\n",
       "<table border=\"1\" class=\"dataframe\">\n",
       "  <thead>\n",
       "    <tr style=\"text-align: right;\">\n",
       "      <th></th>\n",
       "      <th>internet_users_per_100</th>\n",
       "      <th>Math</th>\n",
       "      <th>Reading</th>\n",
       "      <th>Science</th>\n",
       "    </tr>\n",
       "  </thead>\n",
       "  <tbody>\n",
       "    <tr>\n",
       "      <th>count</th>\n",
       "      <td>17.000000</td>\n",
       "      <td>17.000000</td>\n",
       "      <td>17.000000</td>\n",
       "      <td>17.000000</td>\n",
       "    </tr>\n",
       "    <tr>\n",
       "      <th>mean</th>\n",
       "      <td>68.455613</td>\n",
       "      <td>466.216647</td>\n",
       "      <td>454.059682</td>\n",
       "      <td>467.945847</td>\n",
       "    </tr>\n",
       "    <tr>\n",
       "      <th>std</th>\n",
       "      <td>21.086060</td>\n",
       "      <td>64.356490</td>\n",
       "      <td>57.048962</td>\n",
       "      <td>56.671371</td>\n",
       "    </tr>\n",
       "    <tr>\n",
       "      <th>min</th>\n",
       "      <td>21.976068</td>\n",
       "      <td>380.259000</td>\n",
       "      <td>346.549000</td>\n",
       "      <td>386.485400</td>\n",
       "    </tr>\n",
       "    <tr>\n",
       "      <th>25%</th>\n",
       "      <td>50.300000</td>\n",
       "      <td>403.833200</td>\n",
       "      <td>408.102200</td>\n",
       "      <td>417.611200</td>\n",
       "    </tr>\n",
       "    <tr>\n",
       "      <th>50%</th>\n",
       "      <td>74.000000</td>\n",
       "      <td>459.816000</td>\n",
       "      <td>433.542300</td>\n",
       "      <td>456.483600</td>\n",
       "    </tr>\n",
       "    <tr>\n",
       "      <th>75%</th>\n",
       "      <td>84.948353</td>\n",
       "      <td>531.296100</td>\n",
       "      <td>508.690500</td>\n",
       "      <td>523.277400</td>\n",
       "    </tr>\n",
       "    <tr>\n",
       "      <th>max</th>\n",
       "      <td>92.884826</td>\n",
       "      <td>564.189700</td>\n",
       "      <td>535.100200</td>\n",
       "      <td>555.574700</td>\n",
       "    </tr>\n",
       "  </tbody>\n",
       "</table>\n",
       "</div>"
      ],
      "text/plain": [
       "       internet_users_per_100        Math     Reading     Science\n",
       "count               17.000000   17.000000   17.000000   17.000000\n",
       "mean                68.455613  466.216647  454.059682  467.945847\n",
       "std                 21.086060   64.356490   57.048962   56.671371\n",
       "min                 21.976068  380.259000  346.549000  386.485400\n",
       "25%                 50.300000  403.833200  408.102200  417.611200\n",
       "50%                 74.000000  459.816000  433.542300  456.483600\n",
       "75%                 84.948353  531.296100  508.690500  523.277400\n",
       "max                 92.884826  564.189700  535.100200  555.574700"
      ]
     },
     "execution_count": 52,
     "metadata": {},
     "output_type": "execute_result"
    }
   ],
   "source": [
    "AS = df1[df1['Continent_Code'] == 'AS']\n",
    "AS.describe()"
   ]
  },
  {
   "cell_type": "code",
   "execution_count": 53,
   "id": "235949cc",
   "metadata": {},
   "outputs": [
    {
     "data": {
      "text/html": [
       "<div>\n",
       "<style scoped>\n",
       "    .dataframe tbody tr th:only-of-type {\n",
       "        vertical-align: middle;\n",
       "    }\n",
       "\n",
       "    .dataframe tbody tr th {\n",
       "        vertical-align: top;\n",
       "    }\n",
       "\n",
       "    .dataframe thead th {\n",
       "        text-align: right;\n",
       "    }\n",
       "</style>\n",
       "<table border=\"1\" class=\"dataframe\">\n",
       "  <thead>\n",
       "    <tr style=\"text-align: right;\">\n",
       "      <th></th>\n",
       "      <th>internet_users_per_100</th>\n",
       "      <th>Math</th>\n",
       "      <th>Reading</th>\n",
       "      <th>Science</th>\n",
       "    </tr>\n",
       "  </thead>\n",
       "  <tbody>\n",
       "    <tr>\n",
       "      <th>count</th>\n",
       "      <td>37.000000</td>\n",
       "      <td>37.000000</td>\n",
       "      <td>37.000000</td>\n",
       "      <td>37.000000</td>\n",
       "    </tr>\n",
       "    <tr>\n",
       "      <th>mean</th>\n",
       "      <td>77.274888</td>\n",
       "      <td>477.981449</td>\n",
       "      <td>476.164608</td>\n",
       "      <td>478.299381</td>\n",
       "    </tr>\n",
       "    <tr>\n",
       "      <th>std</th>\n",
       "      <td>12.425773</td>\n",
       "      <td>35.150403</td>\n",
       "      <td>37.720545</td>\n",
       "      <td>34.450616</td>\n",
       "    </tr>\n",
       "    <tr>\n",
       "      <th>min</th>\n",
       "      <td>53.744979</td>\n",
       "      <td>371.311400</td>\n",
       "      <td>351.741500</td>\n",
       "      <td>383.682400</td>\n",
       "    </tr>\n",
       "    <tr>\n",
       "      <th>25%</th>\n",
       "      <td>68.632900</td>\n",
       "      <td>464.040100</td>\n",
       "      <td>452.514300</td>\n",
       "      <td>460.774900</td>\n",
       "    </tr>\n",
       "    <tr>\n",
       "      <th>50%</th>\n",
       "      <td>76.184000</td>\n",
       "      <td>489.728700</td>\n",
       "      <td>487.250100</td>\n",
       "      <td>490.225000</td>\n",
       "    </tr>\n",
       "    <tr>\n",
       "      <th>75%</th>\n",
       "      <td>87.479056</td>\n",
       "      <td>503.722000</td>\n",
       "      <td>499.814600</td>\n",
       "      <td>501.936900</td>\n",
       "    </tr>\n",
       "    <tr>\n",
       "      <th>max</th>\n",
       "      <td>98.200000</td>\n",
       "      <td>521.250600</td>\n",
       "      <td>526.424700</td>\n",
       "      <td>534.193700</td>\n",
       "    </tr>\n",
       "  </tbody>\n",
       "</table>\n",
       "</div>"
      ],
      "text/plain": [
       "       internet_users_per_100        Math     Reading     Science\n",
       "count               37.000000   37.000000   37.000000   37.000000\n",
       "mean                77.274888  477.981449  476.164608  478.299381\n",
       "std                 12.425773   35.150403   37.720545   34.450616\n",
       "min                 53.744979  371.311400  351.741500  383.682400\n",
       "25%                 68.632900  464.040100  452.514300  460.774900\n",
       "50%                 76.184000  489.728700  487.250100  490.225000\n",
       "75%                 87.479056  503.722000  499.814600  501.936900\n",
       "max                 98.200000  521.250600  526.424700  534.193700"
      ]
     },
     "execution_count": 53,
     "metadata": {},
     "output_type": "execute_result"
    }
   ],
   "source": [
    "EU = df1[df1['Continent_Code'] == 'EU']\n",
    "EU.describe()"
   ]
  },
  {
   "cell_type": "code",
   "execution_count": 54,
   "id": "23469fcb",
   "metadata": {},
   "outputs": [
    {
     "data": {
      "text/html": [
       "<div>\n",
       "<style scoped>\n",
       "    .dataframe tbody tr th:only-of-type {\n",
       "        vertical-align: middle;\n",
       "    }\n",
       "\n",
       "    .dataframe tbody tr th {\n",
       "        vertical-align: top;\n",
       "    }\n",
       "\n",
       "    .dataframe thead th {\n",
       "        text-align: right;\n",
       "    }\n",
       "</style>\n",
       "<table border=\"1\" class=\"dataframe\">\n",
       "  <thead>\n",
       "    <tr style=\"text-align: right;\">\n",
       "      <th></th>\n",
       "      <th>internet_users_per_100</th>\n",
       "      <th>Math</th>\n",
       "      <th>Reading</th>\n",
       "      <th>Science</th>\n",
       "    </tr>\n",
       "  </thead>\n",
       "  <tbody>\n",
       "    <tr>\n",
       "      <th>count</th>\n",
       "      <td>2.000000</td>\n",
       "      <td>2.000000</td>\n",
       "      <td>2.000000</td>\n",
       "      <td>2.000000</td>\n",
       "    </tr>\n",
       "    <tr>\n",
       "      <th>mean</th>\n",
       "      <td>43.359918</td>\n",
       "      <td>363.212100</td>\n",
       "      <td>355.457400</td>\n",
       "      <td>381.074250</td>\n",
       "    </tr>\n",
       "    <tr>\n",
       "      <th>std</th>\n",
       "      <td>7.297226</td>\n",
       "      <td>5.099513</td>\n",
       "      <td>7.916909</td>\n",
       "      <td>7.536556</td>\n",
       "    </tr>\n",
       "    <tr>\n",
       "      <th>min</th>\n",
       "      <td>38.200000</td>\n",
       "      <td>359.606200</td>\n",
       "      <td>349.859300</td>\n",
       "      <td>375.745100</td>\n",
       "    </tr>\n",
       "    <tr>\n",
       "      <th>25%</th>\n",
       "      <td>40.779959</td>\n",
       "      <td>361.409150</td>\n",
       "      <td>352.658350</td>\n",
       "      <td>378.409675</td>\n",
       "    </tr>\n",
       "    <tr>\n",
       "      <th>50%</th>\n",
       "      <td>43.359918</td>\n",
       "      <td>363.212100</td>\n",
       "      <td>355.457400</td>\n",
       "      <td>381.074250</td>\n",
       "    </tr>\n",
       "    <tr>\n",
       "      <th>75%</th>\n",
       "      <td>45.939877</td>\n",
       "      <td>365.015050</td>\n",
       "      <td>358.256450</td>\n",
       "      <td>383.738825</td>\n",
       "    </tr>\n",
       "    <tr>\n",
       "      <th>max</th>\n",
       "      <td>48.519836</td>\n",
       "      <td>366.818000</td>\n",
       "      <td>361.055500</td>\n",
       "      <td>386.403400</td>\n",
       "    </tr>\n",
       "  </tbody>\n",
       "</table>\n",
       "</div>"
      ],
      "text/plain": [
       "       internet_users_per_100        Math     Reading     Science\n",
       "count                2.000000    2.000000    2.000000    2.000000\n",
       "mean                43.359918  363.212100  355.457400  381.074250\n",
       "std                  7.297226    5.099513    7.916909    7.536556\n",
       "min                 38.200000  359.606200  349.859300  375.745100\n",
       "25%                 40.779959  361.409150  352.658350  378.409675\n",
       "50%                 43.359918  363.212100  355.457400  381.074250\n",
       "75%                 45.939877  365.015050  358.256450  383.738825\n",
       "max                 48.519836  366.818000  361.055500  386.403400"
      ]
     },
     "execution_count": 54,
     "metadata": {},
     "output_type": "execute_result"
    }
   ],
   "source": [
    "df1[df1['Continent_Code'] == 'AF'].describe()"
   ]
  },
  {
   "cell_type": "code",
   "execution_count": 55,
   "id": "acc1ff5b",
   "metadata": {},
   "outputs": [
    {
     "data": {
      "text/html": [
       "<div>\n",
       "<style scoped>\n",
       "    .dataframe tbody tr th:only-of-type {\n",
       "        vertical-align: middle;\n",
       "    }\n",
       "\n",
       "    .dataframe tbody tr th {\n",
       "        vertical-align: top;\n",
       "    }\n",
       "\n",
       "    .dataframe thead th {\n",
       "        text-align: right;\n",
       "    }\n",
       "</style>\n",
       "<table border=\"1\" class=\"dataframe\">\n",
       "  <thead>\n",
       "    <tr style=\"text-align: right;\">\n",
       "      <th></th>\n",
       "      <th>internet_users_per_100</th>\n",
       "      <th>Math</th>\n",
       "      <th>Reading</th>\n",
       "      <th>Science</th>\n",
       "    </tr>\n",
       "  </thead>\n",
       "  <tbody>\n",
       "    <tr>\n",
       "      <th>count</th>\n",
       "      <td>0.0</td>\n",
       "      <td>0.0</td>\n",
       "      <td>0.0</td>\n",
       "      <td>0.0</td>\n",
       "    </tr>\n",
       "    <tr>\n",
       "      <th>mean</th>\n",
       "      <td>NaN</td>\n",
       "      <td>NaN</td>\n",
       "      <td>NaN</td>\n",
       "      <td>NaN</td>\n",
       "    </tr>\n",
       "    <tr>\n",
       "      <th>std</th>\n",
       "      <td>NaN</td>\n",
       "      <td>NaN</td>\n",
       "      <td>NaN</td>\n",
       "      <td>NaN</td>\n",
       "    </tr>\n",
       "    <tr>\n",
       "      <th>min</th>\n",
       "      <td>NaN</td>\n",
       "      <td>NaN</td>\n",
       "      <td>NaN</td>\n",
       "      <td>NaN</td>\n",
       "    </tr>\n",
       "    <tr>\n",
       "      <th>25%</th>\n",
       "      <td>NaN</td>\n",
       "      <td>NaN</td>\n",
       "      <td>NaN</td>\n",
       "      <td>NaN</td>\n",
       "    </tr>\n",
       "    <tr>\n",
       "      <th>50%</th>\n",
       "      <td>NaN</td>\n",
       "      <td>NaN</td>\n",
       "      <td>NaN</td>\n",
       "      <td>NaN</td>\n",
       "    </tr>\n",
       "    <tr>\n",
       "      <th>75%</th>\n",
       "      <td>NaN</td>\n",
       "      <td>NaN</td>\n",
       "      <td>NaN</td>\n",
       "      <td>NaN</td>\n",
       "    </tr>\n",
       "    <tr>\n",
       "      <th>max</th>\n",
       "      <td>NaN</td>\n",
       "      <td>NaN</td>\n",
       "      <td>NaN</td>\n",
       "      <td>NaN</td>\n",
       "    </tr>\n",
       "  </tbody>\n",
       "</table>\n",
       "</div>"
      ],
      "text/plain": [
       "       internet_users_per_100  Math  Reading  Science\n",
       "count                     0.0   0.0      0.0      0.0\n",
       "mean                      NaN   NaN      NaN      NaN\n",
       "std                       NaN   NaN      NaN      NaN\n",
       "min                       NaN   NaN      NaN      NaN\n",
       "25%                       NaN   NaN      NaN      NaN\n",
       "50%                       NaN   NaN      NaN      NaN\n",
       "75%                       NaN   NaN      NaN      NaN\n",
       "max                       NaN   NaN      NaN      NaN"
      ]
     },
     "execution_count": 55,
     "metadata": {},
     "output_type": "execute_result"
    }
   ],
   "source": [
    "df1[df1['Continent_Code'] == 'NA'].describe()"
   ]
  },
  {
   "cell_type": "code",
   "execution_count": 56,
   "id": "bd7e6679",
   "metadata": {},
   "outputs": [
    {
     "data": {
      "text/html": [
       "<div>\n",
       "<style scoped>\n",
       "    .dataframe tbody tr th:only-of-type {\n",
       "        vertical-align: middle;\n",
       "    }\n",
       "\n",
       "    .dataframe tbody tr th {\n",
       "        vertical-align: top;\n",
       "    }\n",
       "\n",
       "    .dataframe thead th {\n",
       "        text-align: right;\n",
       "    }\n",
       "</style>\n",
       "<table border=\"1\" class=\"dataframe\">\n",
       "  <thead>\n",
       "    <tr style=\"text-align: right;\">\n",
       "      <th></th>\n",
       "      <th>internet_users_per_100</th>\n",
       "      <th>Math</th>\n",
       "      <th>Reading</th>\n",
       "      <th>Science</th>\n",
       "    </tr>\n",
       "  </thead>\n",
       "  <tbody>\n",
       "    <tr>\n",
       "      <th>count</th>\n",
       "      <td>7.000000</td>\n",
       "      <td>7.000000</td>\n",
       "      <td>7.000000</td>\n",
       "      <td>7.000000</td>\n",
       "    </tr>\n",
       "    <tr>\n",
       "      <th>mean</th>\n",
       "      <td>60.180494</td>\n",
       "      <td>402.887700</td>\n",
       "      <td>425.359229</td>\n",
       "      <td>421.747186</td>\n",
       "    </tr>\n",
       "    <tr>\n",
       "      <th>std</th>\n",
       "      <td>9.772455</td>\n",
       "      <td>18.128894</td>\n",
       "      <td>19.709688</td>\n",
       "      <td>18.470319</td>\n",
       "    </tr>\n",
       "    <tr>\n",
       "      <th>min</th>\n",
       "      <td>40.900000</td>\n",
       "      <td>377.069500</td>\n",
       "      <td>397.541400</td>\n",
       "      <td>396.683600</td>\n",
       "    </tr>\n",
       "    <tr>\n",
       "      <th>25%</th>\n",
       "      <td>57.116462</td>\n",
       "      <td>388.102200</td>\n",
       "      <td>416.126900</td>\n",
       "      <td>408.205450</td>\n",
       "    </tr>\n",
       "    <tr>\n",
       "      <th>50%</th>\n",
       "      <td>64.289000</td>\n",
       "      <td>409.033300</td>\n",
       "      <td>425.303100</td>\n",
       "      <td>424.590500</td>\n",
       "    </tr>\n",
       "    <tr>\n",
       "      <th>75%</th>\n",
       "      <td>66.321532</td>\n",
       "      <td>417.617650</td>\n",
       "      <td>431.922700</td>\n",
       "      <td>433.794600</td>\n",
       "    </tr>\n",
       "    <tr>\n",
       "      <th>max</th>\n",
       "      <td>69.198471</td>\n",
       "      <td>422.671400</td>\n",
       "      <td>458.570900</td>\n",
       "      <td>446.956100</td>\n",
       "    </tr>\n",
       "  </tbody>\n",
       "</table>\n",
       "</div>"
      ],
      "text/plain": [
       "       internet_users_per_100        Math     Reading     Science\n",
       "count                7.000000    7.000000    7.000000    7.000000\n",
       "mean                60.180494  402.887700  425.359229  421.747186\n",
       "std                  9.772455   18.128894   19.709688   18.470319\n",
       "min                 40.900000  377.069500  397.541400  396.683600\n",
       "25%                 57.116462  388.102200  416.126900  408.205450\n",
       "50%                 64.289000  409.033300  425.303100  424.590500\n",
       "75%                 66.321532  417.617650  431.922700  433.794600\n",
       "max                 69.198471  422.671400  458.570900  446.956100"
      ]
     },
     "execution_count": 56,
     "metadata": {},
     "output_type": "execute_result"
    }
   ],
   "source": [
    "df1[df1['Continent_Code'] == 'SA'].describe()"
   ]
  },
  {
   "cell_type": "code",
   "execution_count": 57,
   "id": "dc8d233b",
   "metadata": {},
   "outputs": [
    {
     "data": {
      "text/html": [
       "<div>\n",
       "<style scoped>\n",
       "    .dataframe tbody tr th:only-of-type {\n",
       "        vertical-align: middle;\n",
       "    }\n",
       "\n",
       "    .dataframe tbody tr th {\n",
       "        vertical-align: top;\n",
       "    }\n",
       "\n",
       "    .dataframe thead th {\n",
       "        text-align: right;\n",
       "    }\n",
       "</style>\n",
       "<table border=\"1\" class=\"dataframe\">\n",
       "  <thead>\n",
       "    <tr style=\"text-align: right;\">\n",
       "      <th></th>\n",
       "      <th>internet_users_per_100</th>\n",
       "      <th>Math</th>\n",
       "      <th>Reading</th>\n",
       "      <th>Science</th>\n",
       "    </tr>\n",
       "  </thead>\n",
       "  <tbody>\n",
       "    <tr>\n",
       "      <th>count</th>\n",
       "      <td>2.000000</td>\n",
       "      <td>2.000000</td>\n",
       "      <td>2.000000</td>\n",
       "      <td>2.000000</td>\n",
       "    </tr>\n",
       "    <tr>\n",
       "      <th>mean</th>\n",
       "      <td>86.391704</td>\n",
       "      <td>494.559750</td>\n",
       "      <td>506.085650</td>\n",
       "      <td>511.648700</td>\n",
       "    </tr>\n",
       "    <tr>\n",
       "      <th>std</th>\n",
       "      <td>2.589686</td>\n",
       "      <td>0.938401</td>\n",
       "      <td>4.504341</td>\n",
       "      <td>2.340241</td>\n",
       "    </tr>\n",
       "    <tr>\n",
       "      <th>min</th>\n",
       "      <td>84.560519</td>\n",
       "      <td>493.896200</td>\n",
       "      <td>502.900600</td>\n",
       "      <td>509.993900</td>\n",
       "    </tr>\n",
       "    <tr>\n",
       "      <th>25%</th>\n",
       "      <td>85.476112</td>\n",
       "      <td>494.227975</td>\n",
       "      <td>504.493125</td>\n",
       "      <td>510.821300</td>\n",
       "    </tr>\n",
       "    <tr>\n",
       "      <th>50%</th>\n",
       "      <td>86.391704</td>\n",
       "      <td>494.559750</td>\n",
       "      <td>506.085650</td>\n",
       "      <td>511.648700</td>\n",
       "    </tr>\n",
       "    <tr>\n",
       "      <th>75%</th>\n",
       "      <td>87.307296</td>\n",
       "      <td>494.891525</td>\n",
       "      <td>507.678175</td>\n",
       "      <td>512.476100</td>\n",
       "    </tr>\n",
       "    <tr>\n",
       "      <th>max</th>\n",
       "      <td>88.222889</td>\n",
       "      <td>495.223300</td>\n",
       "      <td>509.270700</td>\n",
       "      <td>513.303500</td>\n",
       "    </tr>\n",
       "  </tbody>\n",
       "</table>\n",
       "</div>"
      ],
      "text/plain": [
       "       internet_users_per_100        Math     Reading     Science\n",
       "count                2.000000    2.000000    2.000000    2.000000\n",
       "mean                86.391704  494.559750  506.085650  511.648700\n",
       "std                  2.589686    0.938401    4.504341    2.340241\n",
       "min                 84.560519  493.896200  502.900600  509.993900\n",
       "25%                 85.476112  494.227975  504.493125  510.821300\n",
       "50%                 86.391704  494.559750  506.085650  511.648700\n",
       "75%                 87.307296  494.891525  507.678175  512.476100\n",
       "max                 88.222889  495.223300  509.270700  513.303500"
      ]
     },
     "execution_count": 57,
     "metadata": {},
     "output_type": "execute_result"
    }
   ],
   "source": [
    "df1[df1['Continent_Code'] == 'OC'].describe()"
   ]
  },
  {
   "cell_type": "markdown",
   "id": "397ad901",
   "metadata": {},
   "source": [
    "2.\tDetermine whether there is any difference (on the average) for the math scores among European (EU) and Asian (AS) countries (assume normality and equal variances). Draw side-by-side box plots."
   ]
  },
  {
   "cell_type": "code",
   "execution_count": null,
   "id": "227411f3",
   "metadata": {},
   "outputs": [],
   "source": [
    "#Assumptions\n",
    "H0: The population variances are equal\n",
    "H1: There is a difference between the variances in the population\n"
   ]
  },
  {
   "cell_type": "code",
   "execution_count": 58,
   "id": "030c579b",
   "metadata": {},
   "outputs": [
    {
     "data": {
      "image/png": "[encoded data removed]",
      "text/plain": [
       "<Figure size 1500x800 with 2 Axes>"
      ]
     },
     "metadata": {},
     "output_type": "display_data"
    }
   ],
   "source": [
    "fig, axes = plt.subplots(1, 2, figsize=(15, 8), sharey=True)\n",
    "sns.boxplot(ax=axes[0], y=EU.Math)\n",
    "sns.boxplot(ax=axes[1], y=AS.Math)\n",
    "axes[0].set_title('European (EU) countries')\n",
    "axes[1].set_title('Asian (AS) countries');"
   ]
  },
  {
   "cell_type": "code",
   "execution_count": 66,
   "id": "5e1b6691",
   "metadata": {},
   "outputs": [],
   "source": [
    "from scipy.stats import ttest_ind\n"
   ]
  },
  {
   "cell_type": "code",
   "execution_count": 70,
   "id": "e3ae026a",
   "metadata": {},
   "outputs": [],
   "source": [
    "indTest_t_stat, indTest_statistic_pvalue = ttest_ind(EU.Math, AS.Math)"
   ]
  },
  {
   "cell_type": "code",
   "execution_count": 68,
   "id": "031b461f",
   "metadata": {},
   "outputs": [
    {
     "data": {
      "text/plain": [
       "(0.870055317967983, 0.38826888111307345)"
      ]
     },
     "execution_count": 68,
     "metadata": {},
     "output_type": "execute_result"
    }
   ],
   "source": [
    "indTest_t_stat, indTest_statistic_p_value "
   ]
  },
  {
   "cell_type": "markdown",
   "id": "e4f47798",
   "metadata": {},
   "source": [
    "CHECK: statistic=0.870055317967983, pvalue=0.38826888111307345"
   ]
  },
  {
   "cell_type": "code",
   "execution_count": 64,
   "id": "cb1fd6cf",
   "metadata": {},
   "outputs": [],
   "source": [
    "alpha_math = 0.05"
   ]
  },
  {
   "cell_type": "code",
   "execution_count": 71,
   "id": "39fb4dff",
   "metadata": {},
   "outputs": [
    {
     "name": "stdout",
     "output_type": "stream",
     "text": [
      "At 0.05 level of significance, we fail to reject the null hypothesis. We don't have strong evidence to reject the null hypothesis. \n"
     ]
    }
   ],
   "source": [
    "if indTest_statistic_pvalue < alpha_math:\n",
    "    print(\"At {} level of significance, we can reject the null hypothesis in favor of alternative hypothesis.This suggests that the means are not equal.\".format(alpha_math))\n",
    "else:\n",
    "    print(\"At {} level of significance, we fail to reject the null hypothesis. We don't have strong evidence to reject the null hypothesis. \".format(alpha_math))"
   ]
  }
 ],
 "metadata": {
  "kernelspec": {
   "display_name": "Python 3 (ipykernel)",
   "language": "python",
   "name": "python3"
  },
  "language_info": {
   "codemirror_mode": {
    "name": "ipython",
    "version": 3
   },
   "file_extension": ".py",
   "mimetype": "text/x-python",
   "name": "python",
   "nbconvert_exporter": "python",
   "pygments_lexer": "ipython3",
   "version": "3.10.9"
  },
  "toc": {
   "base_numbering": 1,
   "nav_menu": {},
   "number_sections": true,
   "sideBar": true,
   "skip_h1_title": false,
   "title_cell": "Table of Contents",
   "title_sidebar": "Contents",
   "toc_cell": false,
   "toc_position": {},
   "toc_section_display": true,
   "toc_window_display": false
  }
 },
 "nbformat": 4,
 "nbformat_minor": 5
}
